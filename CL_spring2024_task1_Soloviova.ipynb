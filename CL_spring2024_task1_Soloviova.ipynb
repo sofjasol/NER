{
  "nbformat": 4,
  "nbformat_minor": 0,
  "metadata": {
    "colab": {
      "provenance": [],
      "gpuType": "T4"
    },
    "kernelspec": {
      "name": "python3",
      "display_name": "Python 3"
    },
    "language_info": {
      "name": "python"
    },
    "accelerator": "GPU"
  },
  "cells": [
    {
      "cell_type": "code",
      "execution_count": null,
      "metadata": {
        "colab": {
          "base_uri": "https://localhost:8080/"
        },
        "collapsed": true,
        "id": "Oq-SU4Xx-7-i",
        "outputId": "f4461d47-f42f-45cc-981a-ed66c30d493b"
      },
      "outputs": [
        {
          "output_type": "stream",
          "name": "stdout",
          "text": [
            "Requirement already satisfied: datasets in /usr/local/lib/python3.11/dist-packages (3.3.1)\n",
            "Requirement already satisfied: filelock in /usr/local/lib/python3.11/dist-packages (from datasets) (3.17.0)\n",
            "Requirement already satisfied: numpy>=1.17 in /usr/local/lib/python3.11/dist-packages (from datasets) (1.26.4)\n",
            "Requirement already satisfied: pyarrow>=15.0.0 in /usr/local/lib/python3.11/dist-packages (from datasets) (17.0.0)\n",
            "Requirement already satisfied: dill<0.3.9,>=0.3.0 in /usr/local/lib/python3.11/dist-packages (from datasets) (0.3.8)\n",
            "Requirement already satisfied: pandas in /usr/local/lib/python3.11/dist-packages (from datasets) (2.2.2)\n",
            "Requirement already satisfied: requests>=2.32.2 in /usr/local/lib/python3.11/dist-packages (from datasets) (2.32.3)\n",
            "Requirement already satisfied: tqdm>=4.66.3 in /usr/local/lib/python3.11/dist-packages (from datasets) (4.67.1)\n",
            "Requirement already satisfied: xxhash in /usr/local/lib/python3.11/dist-packages (from datasets) (3.5.0)\n",
            "Requirement already satisfied: multiprocess<0.70.17 in /usr/local/lib/python3.11/dist-packages (from datasets) (0.70.16)\n",
            "Requirement already satisfied: fsspec<=2024.12.0,>=2023.1.0 in /usr/local/lib/python3.11/dist-packages (from fsspec[http]<=2024.12.0,>=2023.1.0->datasets) (2024.10.0)\n",
            "Requirement already satisfied: aiohttp in /usr/local/lib/python3.11/dist-packages (from datasets) (3.11.12)\n",
            "Requirement already satisfied: huggingface-hub>=0.24.0 in /usr/local/lib/python3.11/dist-packages (from datasets) (0.28.1)\n",
            "Requirement already satisfied: packaging in /usr/local/lib/python3.11/dist-packages (from datasets) (24.2)\n",
            "Requirement already satisfied: pyyaml>=5.1 in /usr/local/lib/python3.11/dist-packages (from datasets) (6.0.2)\n",
            "Requirement already satisfied: aiohappyeyeballs>=2.3.0 in /usr/local/lib/python3.11/dist-packages (from aiohttp->datasets) (2.4.6)\n",
            "Requirement already satisfied: aiosignal>=1.1.2 in /usr/local/lib/python3.11/dist-packages (from aiohttp->datasets) (1.3.2)\n",
            "Requirement already satisfied: attrs>=17.3.0 in /usr/local/lib/python3.11/dist-packages (from aiohttp->datasets) (25.1.0)\n",
            "Requirement already satisfied: frozenlist>=1.1.1 in /usr/local/lib/python3.11/dist-packages (from aiohttp->datasets) (1.5.0)\n",
            "Requirement already satisfied: multidict<7.0,>=4.5 in /usr/local/lib/python3.11/dist-packages (from aiohttp->datasets) (6.1.0)\n",
            "Requirement already satisfied: propcache>=0.2.0 in /usr/local/lib/python3.11/dist-packages (from aiohttp->datasets) (0.2.1)\n",
            "Requirement already satisfied: yarl<2.0,>=1.17.0 in /usr/local/lib/python3.11/dist-packages (from aiohttp->datasets) (1.18.3)\n",
            "Requirement already satisfied: typing-extensions>=3.7.4.3 in /usr/local/lib/python3.11/dist-packages (from huggingface-hub>=0.24.0->datasets) (4.12.2)\n",
            "Requirement already satisfied: charset-normalizer<4,>=2 in /usr/local/lib/python3.11/dist-packages (from requests>=2.32.2->datasets) (3.4.1)\n",
            "Requirement already satisfied: idna<4,>=2.5 in /usr/local/lib/python3.11/dist-packages (from requests>=2.32.2->datasets) (3.10)\n",
            "Requirement already satisfied: urllib3<3,>=1.21.1 in /usr/local/lib/python3.11/dist-packages (from requests>=2.32.2->datasets) (2.3.0)\n",
            "Requirement already satisfied: certifi>=2017.4.17 in /usr/local/lib/python3.11/dist-packages (from requests>=2.32.2->datasets) (2025.1.31)\n",
            "Requirement already satisfied: python-dateutil>=2.8.2 in /usr/local/lib/python3.11/dist-packages (from pandas->datasets) (2.8.2)\n",
            "Requirement already satisfied: pytz>=2020.1 in /usr/local/lib/python3.11/dist-packages (from pandas->datasets) (2025.1)\n",
            "Requirement already satisfied: tzdata>=2022.7 in /usr/local/lib/python3.11/dist-packages (from pandas->datasets) (2025.1)\n",
            "Requirement already satisfied: six>=1.5 in /usr/local/lib/python3.11/dist-packages (from python-dateutil>=2.8.2->pandas->datasets) (1.17.0)\n"
          ]
        }
      ],
      "source": [
        "! pip install datasets"
      ]
    },
    {
      "cell_type": "code",
      "source": [
        "from datasets import load_dataset\n",
        "\n",
        "dataset = load_dataset(\"Babelscape/wikineural\")\n",
        "train_dataset = dataset[\"train_es\"]\n",
        "val_dataset = dataset[\"val_es\"]\n",
        "test_dataset = dataset[\"test_es\"]\n",
        "labels = {'O': 0, 'B-PER': 1, 'I-PER': 2, 'B-ORG': 3, 'I-ORG': 4, 'B-LOC': 5, 'I-LOC': 6, 'B-MISC': 7, 'I-MISC': 8}\n",
        "labels_dict = {v: k for k, v in labels.items()}"
      ],
      "metadata": {
        "colab": {
          "base_uri": "https://localhost:8080/",
          "height": 1000,
          "referenced_widgets": [
            "58304fa6289241068415e0dd4c063cc1",
            "8ea26d8eca6945019d0a1d8f85066a7b",
            "2160765fab6c4e24931576b1c074dbbe",
            "b24e45040f5a4760b35965220f8fcc78",
            "7b8e3baa95be47e2a933ff5398403187",
            "4f4385ce9abf4d2fad989376d0a10e90",
            "33fa977ebcf2484183521f203474623b",
            "8e840bace2d8426e95ebc0ee904586be",
            "04d156450b674032a342f415f714e364",
            "386d19dd797047c5a1748239c0db8c3f",
            "8ef70bbacfbb4409acce0e983c2e86e5",
            "0eb85bc98cb443c2b87cdbb339ab9b84",
            "9ddd043c61b34b0ea83c7799f0a419f1",
            "b8e9ce75df084ac2b7a36879702c5549",
            "5fc7dc7031cf4a8e9b895fc68ab2de17",
            "398ab7ac90854323ba52b2eb2a690f7d",
            "993c10cfce7543159ccbf013c33c9995",
            "59f6188e08f64e39947f7b6118073b98",
            "82232bf7c4044e32a15dca6db8ec02d1",
            "3382c5030b474a9884d557ff6f4a6a80",
            "290618edb28e4dfcb5c8981c265557da",
            "37f5555452ec4aaa864930028a688596",
            "dbcee314d6be4116ae67cb66249604a8",
            "66ad4f96224947978936fb8dea39cfac",
            "eee03771fcf14472965b5ca75bf5f32b",
            "05ec79c21217433d89b3c116a0154773",
            "a211b49695494cc1b25c662cee7294a3",
            "8cb55fef9a164920b8ae7cb225f1ef74",
            "b212b947b0fd4219b64f23f2e73ff8df",
            "0602c1169355425faa0d39912940fe16",
            "6a93ea6d8e5e4a6f9bc91775341f0d00",
            "df1f6cf017c145a2b4bff2636fa8678a",
            "68c3a7d7736e406c97774be1b34eea40",
            "bb5941f880c44a3fb09fab3461ab3844",
            "9373eac39a294cc78a309bf80322a14c",
            "d44c7f0101fd482a995260d4829db6a1",
            "b1df147a32fa47d3b0faf5df0c79c74b",
            "b4c1da05dda3403fb2e4f7dd1af7910a",
            "8f7f22876db64a59baff458277317407",
            "e767eb7b104c46b78086217a79fb15fa",
            "f25034b4e44d400eb654c635950fbe04",
            "b8df1548878641bea69eaf1f2f3b8a10",
            "ccb55049826f4262baca3cc92da2b1b4",
            "0a8103f474ca4974bb2445b54c369e18",
            "6079014c457f4d47accecb21432bc921",
            "52f1e52d58ed4030893196d58702d4ca",
            "95950bac3f404f89be6dffb7cf83c93c",
            "ec1ed28b15244e019ff22ca9a1fb2a8f",
            "6c2f5adc08c8484795f3e299beefeb9a",
            "7260f49eb0474b4ea8fd105da695a24c",
            "a0ae379115a549a9a10560be2de677d3",
            "f47c5fcc30814aaa89ee887af25178e9",
            "febdafe2422145cba8ccc865acf349b4",
            "f63984a7988b4639b2255fe3d8bb2d16",
            "2bdb73d7eda149f78ff3cbdf99d03773",
            "bd60cb10747d464faf4a9c46ddb791dc",
            "6eaec6ea4a2f43d3aa3e9f1df0f18af1",
            "3c31ad7ffc3c4ac1b858f052a51a8cd9",
            "c103746fb33f4020a8cc426f525d30c6",
            "6bfc980cb7254243a005873ec2032590",
            "2220eac5029c48cbaad250eaaf8ce477",
            "f546f6eb4af847d5825d75b160d2f1a7",
            "85baeb905ea84bd3a55f953341df2014",
            "2b88a7a65791492cb909c17c66363385",
            "cde0d8b555c8448ebed386aca8436f67",
            "e76a57c07e014ea7a967a21854741b01",
            "61d0cfd60eb945ec9d55b0f1da4c485a",
            "576fec515c444f1c80f391ee2d31ac8b",
            "011b4146df3e4a4f9c4093ba91c7179c",
            "d11e303944014685b0dccb92a770037a",
            "1dd0ecf37a994a68b2770b824dfaf7bc",
            "6e35196cf67d42beb49c9c0312a9582b",
            "4847079131084c98b3de0c805274c1ae",
            "55536d1fb5b4436bb92c29b14d42aa66",
            "352d0a222f564e92b164c56dfa446c53",
            "8eb0e528de2f4e9296d55eee2584e14b",
            "ce3971d10c474eae8a53af899a95baa5",
            "75d8362a9f9842769f808e98afbf6e6f",
            "651b685826604fb7bf8cf8af25c0660f",
            "77dbb355b5fb48069e67a6cb80eb6e88",
            "6fe8ef24663e4f55ae49cf4797bdb71a",
            "958a6cce33d44c6188bee9191f5f2933",
            "414da522560e40bba0dc34192e219b2c",
            "e4f1501a76fd4dd1860f6cf0e1902f2f",
            "b760d1853b014df184acfada39b19fae",
            "3f98df7b481946c580bb08bdb6a34822",
            "2f601f124a67465caa8c7858f6034d31",
            "3fb29294e19e48d1999933f5cd27116e",
            "7b495e3eb95941118aac1e314a56f7d9",
            "1aaf8641e2d041e7b9a7e88eb22daa76",
            "2c99915a023d4afc804915c29d9c7c81",
            "069475da2ca44c5a8e6a403fd56ad7d3",
            "f79a5933687b44299c58732d52c63b3b",
            "1810da74b4264b3e85aa8af61021e216",
            "79333963a32d4aa1996661ac604e128e",
            "cfa9d47571c34e369c8d9a3d1c6413a2",
            "37014f4378424cb18dd7ee9bc4c666fe",
            "6078d7c6ba524fafade454c1e9ef560a",
            "036284bcdb81485b8e92bb79ec032ee9",
            "0c591a4457ca4a8e98935ec5944d56ac",
            "85b66865968c4158bcee09fd24e14ad5",
            "f0b909096593426984cd38b061ab9e98",
            "1d460f8bd6fe4011a1c5e934c86184ee",
            "19c532e1c8cf4a02a42b1331c2c5782d",
            "23bba2efa485448791abe3fc5584872f",
            "a069c3da07814b338d1d76c125994d3e",
            "50445ab042ed49b384128484af6f4c68",
            "40229deef8324d478f908f01f1b1112a",
            "5b13673c18d448f5a7ca315575163baa",
            "40531775924e4337b1692ca8d3a5113a",
            "73e5ceaf5aaa4522b0dc4537cd5a17a1",
            "344487ecec074f9a8fa036fed86eb0fd",
            "8fa56288d8a2469fa18b4348000b7b8d",
            "8809ce40bb474607b4aaa8d8265f66f2",
            "eb3da04befc64234a7d8cf93cfb4ebba",
            "5ee0cc6493c14c2eb5c25401f9002153",
            "50772d8ba1b440f8bdd7f77b13545320",
            "fd4f0c0ed49249c087ada3f3182c422b",
            "0d42188783bf46c29cf63b01c311744e",
            "e3064872a2164997b2138c80ee725d0f",
            "331a4dc89c95422d9a720312b66ca7b2",
            "24b77d1439d64300a1fc3c69e3acc82e",
            "4c4d621d294f449a8e15e161d438c460",
            "82b7bdbf63cb46a989f10bfb6d9812cc",
            "60f6544a81574b8b8c98417a56798f99",
            "9be5a210ee9d403b9164274aa1fb6575",
            "fe9b76bf63764fc3876c78b83dd3341a",
            "b2adc6ee34484eaaa9748c39cc3a9b2d",
            "f2688237fb684a2891d34ead2f6932d2",
            "334043dbe72040479cd27572387d894d",
            "ad53b5f7670b4c7e91fb15e2f325fcd7",
            "80fff02de97a45de9ae3c650e670a7c5",
            "6d6fbd619f724c27a34b719567238c93",
            "f3dda7315ade4d03b5239ca5d37042e9",
            "831308832ef24d528539e85259031336",
            "1558d6350a4d455c8103a7cf46a8345d",
            "d7bcf18684194e5389bbfc0c503be6a2",
            "802df02e5473466a90116a69bfb94904",
            "99695ec0b25240a0aee67d71c2315465",
            "7afa821dabbd4e0ab4deeda79becad4e",
            "c18037934f2048d6ab2864a93ba97a2d",
            "2344c18f77f14489bc3a42fa91a663e4",
            "7afe643ee9f149518375e6e9fae8445a",
            "6c9d536120294a4db9ac4e095de8a9c4",
            "ad9eaf3147c14e1ea018209a659cc058",
            "7c0936b403ca4aaaabf3273e46a0a35e",
            "f9a4f9095d294a9186576e464cc1e73b",
            "269aa631e76147e6a65dc6248da61731",
            "9814fe3baddd41b780a1a301c2d90abe",
            "1d225c5c21064df8ae182678d78aba2c",
            "15a24eb6c73b4d21a4ccbaafe6b752f4",
            "86df465eb9aa42e5ab2490b11279b098",
            "37a2f8bd78c6428f88069aa5cef303e1",
            "9efbaabf18924fffa2e2487432c4c4a9",
            "1556e5f2ead343d3b98fa717981353cf",
            "827156b64e71435c9a73e59c6e3b1d45",
            "e25f533cd2f94f39be917545cd1a7e26",
            "5872f931ea6a4089b8e76e11ce92df7e",
            "72a1ff731fdb45f28e8cfe00dacf23f1",
            "53ade84d48b44d40af4d514d5a8e4c20",
            "b2fe9dd1e07a4c70b9e22b87891cc622",
            "0715427ffb424acaa0053b79e06acf85",
            "dc85aaec7a9e4d23a60292dcb5ecb09c",
            "ba910db1ff2c4a849fd380ff204e524f",
            "c78384c3681c43b8adef49b6dc48d709",
            "b1ea1130059644e4a521eedd255560cf",
            "aaf24a6389e84ea8afea58e543342213",
            "6b9b7f7288b44e67a355ff408f6bbfd0",
            "673437487f1a41c0b6cfe11bac371df3",
            "ab5268b91c59473bb84c3f0b2768642f",
            "d283c19a4fd9465fb0c29fbd88276c81",
            "7ab304df865541b29d1520fd68b53685",
            "74a69cd8bb354f13bc241dc8fab686a8",
            "ea5c2d5619474fa386b59884a5e72f7e",
            "946887d3454548328bcecf0aa7b09652",
            "78c2a8b92a2a4caf8c667c44979077ca",
            "e3677e69ceef487d9db9bf24956352a3",
            "978de990978e44b5a3e2d91db6060241",
            "2e9cde2b0be441cbb5a5e76318457250",
            "905b2083c80846d8983a7e2981940ba3",
            "7543c4cffda945b9bf730b6c602a928a",
            "c729b7ca96c64802a7e732a0ae516db2",
            "56c733636a41499ba974dfc8bdc7c478",
            "07964023c96b47668cb5fb73c814734d",
            "b8288c604c0b4bdf82e2708be8b5de7a",
            "cf5100de1f4a4f2f9990ddd2d5229122",
            "6ed3690fa4884adc988438d753e47ba6",
            "df38501d6a7846b794b6c541e585f0aa",
            "482aa62bf9b94419a6692e62d0a50d85",
            "9292ed2064e040ee90c57d10a5d540c9",
            "1bb0ab9886e94bed98d1eb81a9cd1f34",
            "3628e318dfb24c2c9ea5ef33d5abe8f2",
            "d7ff9e117b604d8a919e367ed5315bdb",
            "08a08e8dd7df46609475d66a0d5c278f",
            "dcc9d4d689af40c8a7f9441148d1de27",
            "a45dde5676df43de8271b82157e3c169",
            "97be0b87cf9645e290d08827227c8a74",
            "b49f9a839e7f4a2f8a24f1b3e42416d5",
            "5e2ea5eec89c4fee912a31b390fa1f49",
            "bf8eff4393494182be1b53d0a31da17b",
            "ee156376e96e4a14b2d2c216b7114992",
            "e03d58f8a5124ef696e5f8af3d9c880b",
            "06d9073cda084ed0afa52a8c273e96c9",
            "717d9c8bf3354b1c8726b380cb7c3805",
            "5c9f2d9874a345d1963e1668d0f4a40d",
            "e66a3bee36e9474a80218be0a2247517",
            "e748d4968fa949f2adc4bea5a9eb11b3",
            "19aed369a24f483ab5ed000c16d07f8e",
            "107849721e184dc08068c3be0469ead8",
            "7f365a7410494acd8dbb918392242c5f",
            "fbedd42eacb24ebbaa7d6be597d05a2d",
            "5b18e47e51be4d0c952be516fe341240",
            "13d24f0fd16646bca04cbcc66b4b1d65",
            "09bb28e50e444fc58d88ededf32ccdef",
            "2d1e45d17c564f8aa793ebcbf90f16f8",
            "283545b3904e40069790d856b48f597b",
            "96e850d87a3540ce8725e25bd27a6b70",
            "98cfe4acb26347eb816bf1968c51187e",
            "9847ae5233b24d3bb2f83340fb3dc2fe",
            "bd84b012d37f4a55b37499527ec1c0c9",
            "584dbdc5cdae48e08518d8633f202d37",
            "a65c7628e6724973a0660e1f72c3c71e",
            "7f7b99ed511d45188d3016e8285e9637",
            "803bed7a696d4fb0b76956ef6d7c1c71",
            "430e28a458be416cb791ac3bd92da4c1",
            "77a0fae90e9e4e988174b3b268260d52",
            "b51e529622c047ca8cd07a644d979caf",
            "b9f5ee69bf604d12b22fa4e2b716591e",
            "1012812f5f924857a8d6560c2a88d849",
            "24e91cd732cd441c9df3879cdb21f301",
            "87121cc8ca454cbf974e2ffb31d15502",
            "4065a2ba1ebe490d9dbf5b3cd6064b8c",
            "bae5a9284db24e009afb213de053d2b5",
            "e56663072d5047c1ab0c308e0af5fc72",
            "f7f0f0d2cb2144ab9d0d0a18570853ad",
            "8e9fa67109c44737868362d457cb2830",
            "7ab181729a104f9b84d66112dffc41c2",
            "22a0fdb5ff344b1d908bd2535a5ea1bb",
            "af6cb193a35247218d38f61bf41e9418",
            "8ee984fd0ce94214870f592151fbe563",
            "bfd5245131a04285861ca6f333c7abbe",
            "58d163d328d24db7a1d47051a5beeb2f",
            "3aa68f33a53f4ad4b6cc003f29dc90aa",
            "4694c5a082284fc193b3db0005c87137",
            "b03d257f1b764718be529cca4062702f",
            "d50a3905b37740e08d15cbdff908f68c",
            "920fa766b85841d2aa16ed5470294c9e",
            "cb8457c8ec8f48a3ae51a00608dcfe6c",
            "d2bca2292cf24272bc17d748c5147c19",
            "30af6f311fa04a8896b22e6a241f935d",
            "5e3eb555a2c546a2af08aeb85fcf412d",
            "46723191b3ee4e4c95f6b100dc33d74d",
            "ed9561507d47436087752181bacdfa12",
            "17198e740aff4860acb5a9acc31fa2f4",
            "0c484a36ab1e4d0b968b5c268f3fa98b",
            "3228358fd8c847caaf6fe0eb241de7fd",
            "5619d9952c0c4e68b606f602b307c3f9",
            "46d9e95d32064f4cb3b8268e86fe1d57",
            "69e74f37fd2a40c69a4f5dbfeaab2253",
            "2054975c98ce4ad0b545cfba59649161",
            "8df90b606205470aa99b137136b53ed3",
            "5d2bf4cfafe540e8b641756f0c6228d9",
            "2b96097340d54751a41ef520a175b5b1",
            "ebfbfece1b434aba9b3fa2a2f377efb6",
            "31a9f438f7e546b094b08d717964c088",
            "f100c2d2ee354e56912cb7c59f8a54f8",
            "72d87e183be846d6a5a29be3854073a6",
            "7750600a2a1e4720972b32fcb3301656",
            "1c053bc8e04844d589a857fa740499bd",
            "4d9bcafe24f04acd84ece2020385649d",
            "cefeb0752b0d46d0a66ad788c9a27955",
            "3b0b4eeb8fdb4eb3aad83a2a5485df04",
            "272a3512c0cd49b7b1b0e7c218aae97b",
            "a7d2c73acf9a42a5abd1a7a7088819a5",
            "9b02b5bf4e6846a483c1bd54a78ece6e",
            "0996ff6a0f544f86864605035613acd3",
            "68d50f93ca614a10acddc4daf355de54",
            "add47332a3ad4a219f76b5840f2b7516",
            "158f4c093e8c4d3aa07268670b808acd",
            "8c939c1a25774af680295d5baf9ad2c8",
            "0df6dcc31f7445f6a56e378fe2348925",
            "472cbf6d858548c9860a0261a1afeeea",
            "f4687bc220af40ed87f7b33430cdba31",
            "e9d8516a28334508a5fe7fee192f21d5",
            "bec33d95972a42d2873393c506189c5d",
            "0f5aabcfe8cd4e3abbc79afea0ba7cc1",
            "5131d21765574d7f8134811d54bc68c3",
            "431cb82a447f46b8a616c83a6c6bac73",
            "3c4b5394efc147be88de55da8b375fa6",
            "a3776d6ce5504abc8fa7c3fbc7bf5c8f",
            "ee3c8b2f95134502b427db837e83fe5c",
            "9d5d309469b644b58c8b5320ac52dfe9",
            "a1d11f1d8511432bac0edf4a8064ccd3",
            "d1e8c1c01ca0400586f77900286ee67c",
            "f7b08b00729a4b85938a70def917c227",
            "0430e129a4d94a6a8ba2e9250ad7634e",
            "d6d2b7b4c0fa436296b3df58819d7655",
            "d8ca643249dc4909b85e7eeec9c6649b",
            "fbd2632772414a40a8ffd186fec0ffd8",
            "58b5764dfaf54b858671b4457f4116f6",
            "c3d27dad194f4621869154e682b76216",
            "e998918681fd46319665c155579cd718",
            "02394be0e5b545b98dd7f3b27f6e5940",
            "4fde0be7fabe463f9772563d9677b49a",
            "03b271daf60140f09fbe3c7106c13faf",
            "168c9b52791446048ceb7d1cf943472b",
            "172efbe2e65b4c0ebddd37c955ae61d2",
            "4258d93cfce94ebc956123d0ac116b50",
            "5f31d5655cf64f638f96515e4970994c",
            "dc3a547eccea45b98dcfb1f60372b088",
            "fd31b6f3e31a4ce4b1a4f8aaea5b78dd",
            "902ddcf13398497388b0478ecb8a594a",
            "4c47d3e2cf3e419db3a74a222768bcc5",
            "ccb9ea2ba8d44c3382bb9d2f34050d6f",
            "28090290271c434f85b651acb2376250",
            "1d9978f37dfe40709d20765807914974",
            "3d6f12b0b3544d27b08b4e72613c832c",
            "87cd6cf905f546958c115c43376f4541",
            "628583abf0ad42fb847f0767d46d1b16",
            "f14a2905a56c4bd5a5a1f095388232ff",
            "c6ab46318d93408e9b0cc049aea5c181",
            "afe64f28bb0d44688a5e1978f5aa50b4",
            "cceb63a3a06d4a57a251595d2b853453",
            "1b481ff1ea744be9b94d273bd96295bd",
            "f332598da3bd43a78d38d2456f70dfbf",
            "a5c1dde32c0249a8883c1564878a2f39",
            "929952e8d8394f81befda701375d0a01",
            "97580862aea34d2eb81ad9707ebfb63a",
            "a0baa6b0e9e34ce89bd03b748dd4cc15",
            "5bb8b652524548c285581cfbb8e7c1c1",
            "596156212ad844699b07b2047b8897b5",
            "ec3a21fc7d4c462382248530eec2babc",
            "7dc7b91c39e648d6827e1725885b361a",
            "055793f8ed084767acbcf34973ed307e",
            "61540b221b7841c286c7ad9c6726a4df",
            "5e7224a284d1441fb9b1561a3ffb5a63",
            "efa7c235258247c1ad0ef13ba4ab2c46",
            "ddbe0d5ee35c46829681333031aa44f5",
            "ccc0ceb5c0904064a463979cdea216e8",
            "b8e7adbd31e64cc48428914b19ba0595",
            "6694813261ca4614881eaa77f01ee94c",
            "38d99a5deac04a4b97172becea2468e3",
            "41eaabe809cb4f0691c1428168f7ddfc",
            "73f3a52d76c44cb9954ac45c917ca8ec",
            "7ccf2398e94c43ad8fefad15b2167e57",
            "a32bb2d383744b9cbfd520f71e4faae3",
            "ab7f20be2d3d4ea9ba0b4cb8b775bcc6",
            "a3cff4eaaa994075b3c3cc65a6f5d25f",
            "9f6db44a79bf4e139fdc63e85abb4c4d",
            "f0434cbfc8124617a9ad09c0848d7db1",
            "d15a61fbc8d84676ba3e41bbd27333a8",
            "5172feb0adfd42b6afad3d501d87768b",
            "203fac0f9bd4439b9d724ed7feeb77a0",
            "b3d8118bd611417c98e21e435c44bc46",
            "4a7de1c69a514be580ca719366f46ab1",
            "5ccb177ede3548b3be977f5867f9af3a",
            "33dc0706bf634236b4b7bbaf7ef8029a",
            "adafb081d9d94d5a8ca753ddf63b55b4",
            "a681eba353af44e3aad25cc4ab071c85",
            "948b755a664844c3943c41ca8ef410d1",
            "97dfd446fd95426593b0ec0e6ae8146a",
            "34f6e0eb1c624ece8e88884f39fa7458",
            "17ad034344d445febe6784f76a1c3d43",
            "ba995161e631414081050235faa8f8d4",
            "8749663a69e143b4aae50b41ca1f7196",
            "df352a28e1b348bebaaee5f1ab3dd956",
            "2d604e5787f04d4e9fcf077a479cc311",
            "e7abdbe695114732ac145036ab972856",
            "a2587f35294c468a9bb159c3466c10a1",
            "a3a91f1114e14c0591830e24778bc9ab",
            "8cab9cbfd89444448f1a3027f2ac3261",
            "8f8d83521e634fc18a440c547f4f4371",
            "21b3237e303b47e1856fea1cb2b79686",
            "1285bd0e773346fe88f968bc8d8134f2",
            "7d83aaa95f794b3c801d51d8af353dd6",
            "bfa79326e3ec488b84e8bf5ecd1106f9",
            "6d0da94ff77d4bf58307701d5bf5fd74",
            "2a814c67530042ebbf7bf80550dee62f",
            "ab83fb9b46fe4161b7f9f37e5e67c830",
            "64e35bbcc9cf4948b36c47383dddd442",
            "dbc4a3cc71ce4e689107201a405e0535",
            "f57df9672c2845e5a625cf0e01710938",
            "aea0736c5a864cb58feb0527fb454651",
            "3d2ced675493444a877e7fd55c494490",
            "68d5324c1fbd4fe8b823c62e0b963183",
            "6fd60e944f1e42e5964a8533ddbbe4fd",
            "a697c033533c4c8d80a513ee79cfb745",
            "897fb1ac45a94e228e24aca6f9a67c61",
            "50ebcaf581e244d2ba864367bba1dc6b",
            "62d0d901bf2a42fdbc49a9ef039dccb2",
            "01f2a52dfda24705835e5613d3c3437d",
            "b26c6cf427324a33a8cb486e0611941e",
            "94e629c5db28495ab50eae63a8895923",
            "8ebadcfff2bc4028a6be3c95bd6beae3",
            "d6fbe62cff6a4bdea4e891c489567b9c",
            "ccca5f3c19b749498a188a5bd8c1f91c",
            "ea0b3ba075334f498004f666d6cf1394",
            "eebb5cc554704f55a34e2235502665c3",
            "44910ca63d47499592f1e5e1fec3ec34",
            "cd0f862de9eb43d0991481dcfb9da3b9",
            "f5b4148fc9f7438688f7e4fa6e5618a1",
            "3c7781c60349432b81527948ae96dc9e",
            "4f1ea7c4fd1c41c0b6ec517429f09ab6",
            "b5e0b128edb149cc984508db0d3f4a5e",
            "f2101320440c40bba60a3e778ba845fb",
            "b7ec654d08934cc9a180069daec01726",
            "8a8ad5f1138949859e74f87255f7795d",
            "bc2442340f9c43c2a2a14bf56c99e94a",
            "6f860e3575d844a98463944ca18d7ca9",
            "35b24f4988e14aa887691bd414e0ade3",
            "d8bc5e3250144337b020d026687db258",
            "af9c73cc7a43478886dcf7ec9d983223",
            "cd4e2688ccd9468b842911ba9c502c0b",
            "edf1d16fc62441aba16d4c4b50cea09d",
            "89cb01ced3f04281a817e2fdcd3ef499",
            "cf36617b90b64ff18a13de2877b25029",
            "d2d8ae4ae02e456189fdb470052350bf",
            "25b8d3aceb2f4c5ab49213894be45770",
            "97510ee733ec461599aaea831da5a0e0",
            "3ce22d178a9a426d8e1c6b3435f65f9e",
            "926647d47c564f868c98e9d360975974",
            "376a4213e46e4da0ae5db939259f332f",
            "0227001b68f04e8c875dcea0d38b95c7",
            "f3b4d33a37714ed49c4dfe2d174e6503",
            "d8f3c0c8a4094bc0b1d7927c071def7a",
            "77df8037250b445cb1935d79be6b0a5d",
            "c59c723d3b4e4fdf9632379e2fe98817",
            "b2dc0e7dce8049b18cfdc8a5fdc69418",
            "817b1e741ec540eb9eee3696543cddfa",
            "283e79547a504b8ca2a4bb5ac19ab4de",
            "603c8ba73cd340d9a2cbf72a7e5d6841",
            "01e8bcb915a04ae0bfdcf38c057ccf80",
            "7a77104c640e4918946ec1e64c2c9a6d",
            "5f93ec29a6d449a28877054f647e74d1",
            "7521adefdcee4304bc37705609ae05c3",
            "0a983948bef0471db5e79427cb1744b3",
            "36e8f47a581f4b009c7df683f0d5071b",
            "5889c986dc13475baa0a95b6d935baec",
            "37dae5d0e7f84a7881b907f72fa79a2a",
            "f80f8faf19014af898706d57aa2fc7c5",
            "021089ef6b204ba4868cb26324f9ebd6",
            "b9976806720647d58907df76fc859e7d",
            "4d34eaa5fcc34c06aca1d69f44c5aef6",
            "444175ec009c45f2b5b78e240a315260",
            "04a26f80006440c5ba5ccd127d2b7473",
            "4cb11a41163a4168af8bd76a89c558a3",
            "7586aab1c71145e08a3e116f174f3836",
            "994ec445347446eb8b825c1b03225f8a",
            "3ad855114e414f8da3c1aa157bfbaf5e",
            "dce4f95fbf0946d4aa8bf0597ebe8d45",
            "52691137d1b1444e9c4d6aff0ebb0343",
            "966b714205914533b2ce6810bcc81923",
            "5725b46193f64e7da571b432a3c7edb9",
            "4ffeecf22e36448e9d19c8c5266a31e8",
            "470b2643636e4d33bab968eaf287c1c9",
            "20b3219682374eba86b23c38bc1b3554",
            "f56c5edc8bf34b749ede31081eb51ed7",
            "1a3a058543994a4994b1671e19dbcf88",
            "98863d219fda49bd951f66381469975d",
            "5619e58eb2764857a515972bf9c256f8",
            "ff6aa8c9c6d7466393a9d7a862d3a7ac",
            "44c8b2bf497d4e30b8f9d782dc21adc4",
            "8bc6bc6c0c594b1e958e1dd3dce9e707",
            "efc24b7503844119ac9dd7d77ee69333",
            "9afe2dc695f54567aa52b63546a534bb",
            "457662300d4047d9aecfa815ef696fdc",
            "d6f13915f4a548bbaebb5dd50a4a737a",
            "0e2852400cb1459d92f89d8e76db0be8",
            "d52a557eb3e8479b80482e3d95d356bd",
            "a22fec1692b54496a6ee6967d5e1f11a",
            "46d916f957b44a5dbd604bc14e176fb5",
            "e0921aac439c46a682949f589f6bc7d5",
            "64d3978c551e432a9689d5d98ab56573",
            "c3fbf0f78992499bbb285ee89d76fbc2",
            "f5a4d61a00c3444cbc5b6b0431fa0c01",
            "dfedba11637f4e5aa1d0299852b59c79",
            "0ab2accc77d04ca1bf438f2bcc2dd8c0",
            "4650816c76bb40f495b73a8ca618e4fc",
            "4aec4b101bae4a96a0d44c436a177c36",
            "ac8f5b26249f407d9a203046365a208f",
            "c0a19652b2b141fabd4f854cedde7dc7",
            "2323835cac654fc885f71e5c72a02512",
            "c16f5e925e4642af958147bd97224448",
            "467d1ea2461f4db693c01950deea17b3",
            "dcca3df24c094cf6abd01cde4d25280e",
            "05b4fe422a054913b7e6580a0ad6fbbe",
            "e0a573128f8642dbaf0b5ef5e06979ad",
            "b2074840415c48da8e83c0c5ab1b3f13",
            "69bdc83208ed43a8908662f7da66005c",
            "0c73b6efb657465399f238e3404b4f56",
            "a3fa4cf2ac5b4847bd81b26939eb2c48",
            "3679f0b7f0fb43cd9d3c98702a572c60",
            "b9ceddc5742d4b92babafee57a530ae3",
            "e19c2cfbb1324a3fbcbf47961fdc2ea2",
            "a9cf12b8c9844d78a15f2144f1896bf5",
            "aa7ca2802334418d836f5f2dc9634a3b",
            "2e5ea4b9209041779fc1a8f7358a9955",
            "ab86c37a42b64e31a77ad638f9c8c36f",
            "d969ccf86add43cdbb5bc7654699c0a8",
            "33b18e87156249e78a043baf77174cc4",
            "64953a1bfd2a4e40930a64d8177f083a",
            "fe8fd665886649dbb01b97612759f983",
            "d32fe19ec52e42caba476b6bbfd72fbe",
            "4d155385116d44f3b1ec4fedbab171bd",
            "1bdaf40bbcc8417694d2f156b0e2b8da",
            "60182851cd614aa0b43137331c17c938",
            "43c6076cbd5949aea075e70b29b30658",
            "306aaf27b4dd46c9b8520aafca5abd8b",
            "ffa397e48ccf4ef2a02e5e94ddf1d1ff",
            "d7739ba4f0954eb0b1b7f67652021b42",
            "f652b440f25c4663b723f9ae360cdefa",
            "6b8273337d474c0f80a1f471edae5628",
            "c954f419a2864d389cee78cd64214bd7",
            "4a40609cbacd41c1815ff9a419bd04cf",
            "d16e569c8a564ec392c1ba09eea618eb",
            "26ed992bca7045e788a4db651d0b9562",
            "bca6861a98134a1799beb1aaee879a2a",
            "f01863931277429b9bdf9269defa9c9b",
            "09fef3af42804ed5b711a950dc9de6ce",
            "369cef3d328e478f8a07611ef3fcd75e",
            "7fce38c8f9e342c88f4b963a76f1bf23",
            "cc36c0ae908743e0a9e2a2b39ade9821",
            "af420ef9026249219609d0789765d5e3",
            "cc376e48359943c78bb39f193e6affc6",
            "42aa253a012749b3b1418c721a512b8c",
            "69859f5dacc14e5785e93145dff82844",
            "f46ccb65fdf64793b1f71142321858d8",
            "4820ba6dd66740d4969b98cdb4bb5d48",
            "85a6b17231af4961a18e575794fc4d2c",
            "7eaa26ef2cca4fcfa68bf8d345253f57",
            "8f8c2ae74b734c7787059d1f92bd46cc",
            "aa855e529a5843ae92eabb291092ad79",
            "f052a1db9d8446d29c709e45dbaab711",
            "db7ff30ef25243c1b69fde05cafd42a6",
            "74adf7416770428ebd7657671160fe3b",
            "939fcce1f01042bbbd731d96b5781043",
            "b39de39f7ce74fdbafab3ecfedf1c1c1",
            "eec3fee8cee04464984cccd3fc98afbb",
            "9828163768eb4701af13cdf3b74235a6",
            "6566a4f2f6c946e2a441c3f6ece24803",
            "195ae8a07d444b0398d6861214c0eab7",
            "bd06809e08c6498e87022c34c7143b5b",
            "d75ad94fd81047f799e17bccccf08186",
            "738112e6bda54881963a147ab150104c",
            "24a717c4ceac422f8c0b40a8fdc8d3cf",
            "46e8d025b746471088175b3f0e9e0017",
            "2532ab627ae24b7b9a46e7b99277c42b",
            "0774ce5705f847b28778b622399d83eb",
            "6feedd9cad184117b22ba3fb5b14c3c2",
            "7699cce047694ef084a2b9d17825ceb2",
            "d3ca5ba1eb104aad9ecbb67e41e22366",
            "d6daa7b176ae4f37b422d4ef4942472a",
            "f4aceb5706704d0e96a7d6ebe8150bcf",
            "8a2eb14944294188935fe5a795fc5574",
            "7009ce92be1f41668440df8eb0bd2bd1",
            "f748d678bdb94365a4a92197d05c2bf0",
            "3335bdba564e40e4981b706da51bda7b",
            "11642fac1de14dd4ab94f206a55e0bfa",
            "99f52150467d4b018eb2ec809b117f09",
            "9f548d99e2df44eeb39b569910cb37df",
            "978a2803440c4282b0d8643bf3be7c33",
            "cfbdeaa71c584a208375827f96ae2b0d",
            "4faa7ba38c0b4a7d978a336d053850ae",
            "e0bb8258b6c8473f94395aed44e8e335",
            "e0d511d8fad047b6bdf4bcb7758ab9e0",
            "9abf92560d354e96b01eca5e8939fb17",
            "4c9c005c90a14774bd4fbdacf4a034c7",
            "7014fe6ba31a4243b3454a1567d3dd50",
            "07f487d8e0b7463c80745ca593ee944d",
            "9ec7ebcd696949b29f72a05e850f9148",
            "b300ff88140d4a378fc936eb9b06d17a",
            "699d48cf568c45c7a673b828c3819814",
            "61f1e4d1ef0442568bbaf69a6080cd91",
            "75eb38a8e7c246cc883d678f4e9f33e9",
            "3c22c819558349c79c5bf681d785a8fa",
            "045b32fdf09548128cb1adc741ed929b",
            "93549816234c45b99d84c0146e5a9abd",
            "de6427121e6848cfa5e8da5d1009cf0a",
            "1c8572cf03cd4332b47bce03609ff2ad",
            "82be78a164f642afb3cb316000811de4",
            "328e5f9784b6483e98c2bac8fc09bf0e",
            "e34ba4388b214c0fba6c125521136a6e",
            "95257340fc9d4e69b2120faf5c506d12",
            "828c2664aad54908926ef20a8cab45bc",
            "2ec15bdaf13241d480907ec94b8d86ec",
            "b967a69d687d4a77aaa4605283996be6",
            "ae2a862f196748f38bba29b57c3a23bf",
            "f5ef6e96a6bd4acaaaea819deefae7d9",
            "707ffcc80e4846a5a6682171e319f2f7",
            "1897db3ecf184954a028ae0361bd9a9e",
            "efc5cd29548c4b89a36b66f0f489bbda",
            "48443062450e4c2b8c404946447576f5",
            "0160bcb0c01249d08d7f0da4e8151e47",
            "e8390975bb2040b8a03bd428d6efa4b9",
            "206cceb1eee941fc8b2f8c8ee152fdfc",
            "f735ce35619347c79939d8dd9678ab02",
            "3f6523184c174de9a6cd012ce72070c9",
            "dd4f1ea77074492f9fd42c3f26516f93",
            "7cee97f827244a1da4d28e55a2a65d95",
            "7182066fb8964c19864055089ab72155",
            "c0dc6db77a834454ad31d3d07baaea85",
            "b86034fda92d41e093c60b65980d0989",
            "33d7e52eeac3434fb0fc86896541a278",
            "77fa173a18a147ccafcca59e7f99b236",
            "5bb9bc194c454eff82306f66482795e7"
          ]
        },
        "collapsed": true,
        "id": "-jLFnTE3BAwb",
        "outputId": "23383513-f25f-4b15-dd52-05b844c9c9a3"
      },
      "execution_count": null,
      "outputs": [
        {
          "output_type": "stream",
          "name": "stderr",
          "text": [
            "/usr/local/lib/python3.11/dist-packages/huggingface_hub/utils/_auth.py:94: UserWarning: \n",
            "The secret `HF_TOKEN` does not exist in your Colab secrets.\n",
            "To authenticate with the Hugging Face Hub, create a token in your settings tab (https://huggingface.co/settings/tokens), set it as secret in your Google Colab and restart your session.\n",
            "You will be able to reuse this secret in all of your notebooks.\n",
            "Please note that authentication is recommended but still optional to access public models or datasets.\n",
            "  warnings.warn(\n"
          ]
        },
        {
          "output_type": "display_data",
          "data": {
            "text/plain": [
              "README.md:   0%|          | 0.00/5.27k [00:00<?, ?B/s]"
            ],
            "application/vnd.jupyter.widget-view+json": {
              "version_major": 2,
              "version_minor": 0,
              "model_id": "58304fa6289241068415e0dd4c063cc1"
            }
          },
          "metadata": {}
        },
        {
          "output_type": "display_data",
          "data": {
            "text/plain": [
              "test_de-00000-of-00001.parquet:   0%|          | 0.00/847k [00:00<?, ?B/s]"
            ],
            "application/vnd.jupyter.widget-view+json": {
              "version_major": 2,
              "version_minor": 0,
              "model_id": "0eb85bc98cb443c2b87cdbb339ab9b84"
            }
          },
          "metadata": {}
        },
        {
          "output_type": "display_data",
          "data": {
            "text/plain": [
              "test_en-00000-of-00001.parquet:   0%|          | 0.00/894k [00:00<?, ?B/s]"
            ],
            "application/vnd.jupyter.widget-view+json": {
              "version_major": 2,
              "version_minor": 0,
              "model_id": "dbcee314d6be4116ae67cb66249604a8"
            }
          },
          "metadata": {}
        },
        {
          "output_type": "display_data",
          "data": {
            "text/plain": [
              "test_es-00000-of-00001.parquet:   0%|          | 0.00/723k [00:00<?, ?B/s]"
            ],
            "application/vnd.jupyter.widget-view+json": {
              "version_major": 2,
              "version_minor": 0,
              "model_id": "bb5941f880c44a3fb09fab3461ab3844"
            }
          },
          "metadata": {}
        },
        {
          "output_type": "display_data",
          "data": {
            "text/plain": [
              "test_fr-00000-of-00001.parquet:   0%|          | 0.00/997k [00:00<?, ?B/s]"
            ],
            "application/vnd.jupyter.widget-view+json": {
              "version_major": 2,
              "version_minor": 0,
              "model_id": "6079014c457f4d47accecb21432bc921"
            }
          },
          "metadata": {}
        },
        {
          "output_type": "display_data",
          "data": {
            "text/plain": [
              "test_it-00000-of-00001.parquet:   0%|          | 0.00/1.06M [00:00<?, ?B/s]"
            ],
            "application/vnd.jupyter.widget-view+json": {
              "version_major": 2,
              "version_minor": 0,
              "model_id": "bd60cb10747d464faf4a9c46ddb791dc"
            }
          },
          "metadata": {}
        },
        {
          "output_type": "display_data",
          "data": {
            "text/plain": [
              "test_nl-00000-of-00001.parquet:   0%|          | 0.00/706k [00:00<?, ?B/s]"
            ],
            "application/vnd.jupyter.widget-view+json": {
              "version_major": 2,
              "version_minor": 0,
              "model_id": "61d0cfd60eb945ec9d55b0f1da4c485a"
            }
          },
          "metadata": {}
        },
        {
          "output_type": "display_data",
          "data": {
            "text/plain": [
              "test_pl-00000-of-00001.parquet:   0%|          | 0.00/943k [00:00<?, ?B/s]"
            ],
            "application/vnd.jupyter.widget-view+json": {
              "version_major": 2,
              "version_minor": 0,
              "model_id": "75d8362a9f9842769f808e98afbf6e6f"
            }
          },
          "metadata": {}
        },
        {
          "output_type": "display_data",
          "data": {
            "text/plain": [
              "test_pt-00000-of-00001.parquet:   0%|          | 0.00/849k [00:00<?, ?B/s]"
            ],
            "application/vnd.jupyter.widget-view+json": {
              "version_major": 2,
              "version_minor": 0,
              "model_id": "7b495e3eb95941118aac1e314a56f7d9"
            }
          },
          "metadata": {}
        },
        {
          "output_type": "display_data",
          "data": {
            "text/plain": [
              "test_ru-00000-of-00001.parquet:   0%|          | 0.00/1.11M [00:00<?, ?B/s]"
            ],
            "application/vnd.jupyter.widget-view+json": {
              "version_major": 2,
              "version_minor": 0,
              "model_id": "0c591a4457ca4a8e98935ec5944d56ac"
            }
          },
          "metadata": {}
        },
        {
          "output_type": "display_data",
          "data": {
            "text/plain": [
              "train_de-00000-of-00001.parquet:   0%|          | 0.00/7.05M [00:00<?, ?B/s]"
            ],
            "application/vnd.jupyter.widget-view+json": {
              "version_major": 2,
              "version_minor": 0,
              "model_id": "73e5ceaf5aaa4522b0dc4537cd5a17a1"
            }
          },
          "metadata": {}
        },
        {
          "output_type": "display_data",
          "data": {
            "text/plain": [
              "train_en-00000-of-00001.parquet:   0%|          | 0.00/7.18M [00:00<?, ?B/s]"
            ],
            "application/vnd.jupyter.widget-view+json": {
              "version_major": 2,
              "version_minor": 0,
              "model_id": "24b77d1439d64300a1fc3c69e3acc82e"
            }
          },
          "metadata": {}
        },
        {
          "output_type": "display_data",
          "data": {
            "text/plain": [
              "train_es-00000-of-00001.parquet:   0%|          | 0.00/6.04M [00:00<?, ?B/s]"
            ],
            "application/vnd.jupyter.widget-view+json": {
              "version_major": 2,
              "version_minor": 0,
              "model_id": "6d6fbd619f724c27a34b719567238c93"
            }
          },
          "metadata": {}
        },
        {
          "output_type": "display_data",
          "data": {
            "text/plain": [
              "train_fr-00000-of-00001.parquet:   0%|          | 0.00/8.31M [00:00<?, ?B/s]"
            ],
            "application/vnd.jupyter.widget-view+json": {
              "version_major": 2,
              "version_minor": 0,
              "model_id": "6c9d536120294a4db9ac4e095de8a9c4"
            }
          },
          "metadata": {}
        },
        {
          "output_type": "display_data",
          "data": {
            "text/plain": [
              "train_it-00000-of-00001.parquet:   0%|          | 0.00/7.81M [00:00<?, ?B/s]"
            ],
            "application/vnd.jupyter.widget-view+json": {
              "version_major": 2,
              "version_minor": 0,
              "model_id": "1556e5f2ead343d3b98fa717981353cf"
            }
          },
          "metadata": {}
        },
        {
          "output_type": "display_data",
          "data": {
            "text/plain": [
              "train_nl-00000-of-00001.parquet:   0%|          | 0.00/5.31M [00:00<?, ?B/s]"
            ],
            "application/vnd.jupyter.widget-view+json": {
              "version_major": 2,
              "version_minor": 0,
              "model_id": "b1ea1130059644e4a521eedd255560cf"
            }
          },
          "metadata": {}
        },
        {
          "output_type": "display_data",
          "data": {
            "text/plain": [
              "train_pl-00000-of-00001.parquet:   0%|          | 0.00/7.52M [00:00<?, ?B/s]"
            ],
            "application/vnd.jupyter.widget-view+json": {
              "version_major": 2,
              "version_minor": 0,
              "model_id": "e3677e69ceef487d9db9bf24956352a3"
            }
          },
          "metadata": {}
        },
        {
          "output_type": "display_data",
          "data": {
            "text/plain": [
              "train_pt-00000-of-00001.parquet:   0%|          | 0.00/6.43M [00:00<?, ?B/s]"
            ],
            "application/vnd.jupyter.widget-view+json": {
              "version_major": 2,
              "version_minor": 0,
              "model_id": "df38501d6a7846b794b6c541e585f0aa"
            }
          },
          "metadata": {}
        },
        {
          "output_type": "display_data",
          "data": {
            "text/plain": [
              "train_ru-00000-of-00001.parquet:   0%|          | 0.00/9.12M [00:00<?, ?B/s]"
            ],
            "application/vnd.jupyter.widget-view+json": {
              "version_major": 2,
              "version_minor": 0,
              "model_id": "5e2ea5eec89c4fee912a31b390fa1f49"
            }
          },
          "metadata": {}
        },
        {
          "output_type": "display_data",
          "data": {
            "text/plain": [
              "val_de-00000-of-00001.parquet:   0%|          | 0.00/853k [00:00<?, ?B/s]"
            ],
            "application/vnd.jupyter.widget-view+json": {
              "version_major": 2,
              "version_minor": 0,
              "model_id": "7f365a7410494acd8dbb918392242c5f"
            }
          },
          "metadata": {}
        },
        {
          "output_type": "display_data",
          "data": {
            "text/plain": [
              "val_en-00000-of-00001.parquet:   0%|          | 0.00/899k [00:00<?, ?B/s]"
            ],
            "application/vnd.jupyter.widget-view+json": {
              "version_major": 2,
              "version_minor": 0,
              "model_id": "584dbdc5cdae48e08518d8633f202d37"
            }
          },
          "metadata": {}
        },
        {
          "output_type": "display_data",
          "data": {
            "text/plain": [
              "val_es-00000-of-00001.parquet:   0%|          | 0.00/711k [00:00<?, ?B/s]"
            ],
            "application/vnd.jupyter.widget-view+json": {
              "version_major": 2,
              "version_minor": 0,
              "model_id": "4065a2ba1ebe490d9dbf5b3cd6064b8c"
            }
          },
          "metadata": {}
        },
        {
          "output_type": "display_data",
          "data": {
            "text/plain": [
              "val_fr-00000-of-00001.parquet:   0%|          | 0.00/1.04M [00:00<?, ?B/s]"
            ],
            "application/vnd.jupyter.widget-view+json": {
              "version_major": 2,
              "version_minor": 0,
              "model_id": "3aa68f33a53f4ad4b6cc003f29dc90aa"
            }
          },
          "metadata": {}
        },
        {
          "output_type": "display_data",
          "data": {
            "text/plain": [
              "val_it-00000-of-00001.parquet:   0%|          | 0.00/1.04M [00:00<?, ?B/s]"
            ],
            "application/vnd.jupyter.widget-view+json": {
              "version_major": 2,
              "version_minor": 0,
              "model_id": "17198e740aff4860acb5a9acc31fa2f4"
            }
          },
          "metadata": {}
        },
        {
          "output_type": "display_data",
          "data": {
            "text/plain": [
              "val_nl-00000-of-00001.parquet:   0%|          | 0.00/702k [00:00<?, ?B/s]"
            ],
            "application/vnd.jupyter.widget-view+json": {
              "version_major": 2,
              "version_minor": 0,
              "model_id": "31a9f438f7e546b094b08d717964c088"
            }
          },
          "metadata": {}
        },
        {
          "output_type": "display_data",
          "data": {
            "text/plain": [
              "val_pl-00000-of-00001.parquet:   0%|          | 0.00/993k [00:00<?, ?B/s]"
            ],
            "application/vnd.jupyter.widget-view+json": {
              "version_major": 2,
              "version_minor": 0,
              "model_id": "0996ff6a0f544f86864605035613acd3"
            }
          },
          "metadata": {}
        },
        {
          "output_type": "display_data",
          "data": {
            "text/plain": [
              "val_pt-00000-of-00001.parquet:   0%|          | 0.00/841k [00:00<?, ?B/s]"
            ],
            "application/vnd.jupyter.widget-view+json": {
              "version_major": 2,
              "version_minor": 0,
              "model_id": "5131d21765574d7f8134811d54bc68c3"
            }
          },
          "metadata": {}
        },
        {
          "output_type": "display_data",
          "data": {
            "text/plain": [
              "val_ru-00000-of-00001.parquet:   0%|          | 0.00/1.12M [00:00<?, ?B/s]"
            ],
            "application/vnd.jupyter.widget-view+json": {
              "version_major": 2,
              "version_minor": 0,
              "model_id": "d8ca643249dc4909b85e7eeec9c6649b"
            }
          },
          "metadata": {}
        },
        {
          "output_type": "display_data",
          "data": {
            "text/plain": [
              "Generating test_de split:   0%|          | 0/12372 [00:00<?, ? examples/s]"
            ],
            "application/vnd.jupyter.widget-view+json": {
              "version_major": 2,
              "version_minor": 0,
              "model_id": "5f31d5655cf64f638f96515e4970994c"
            }
          },
          "metadata": {}
        },
        {
          "output_type": "display_data",
          "data": {
            "text/plain": [
              "Generating test_en split:   0%|          | 0/11597 [00:00<?, ? examples/s]"
            ],
            "application/vnd.jupyter.widget-view+json": {
              "version_major": 2,
              "version_minor": 0,
              "model_id": "f14a2905a56c4bd5a5a1f095388232ff"
            }
          },
          "metadata": {}
        },
        {
          "output_type": "display_data",
          "data": {
            "text/plain": [
              "Generating test_es split:   0%|          | 0/9618 [00:00<?, ? examples/s]"
            ],
            "application/vnd.jupyter.widget-view+json": {
              "version_major": 2,
              "version_minor": 0,
              "model_id": "596156212ad844699b07b2047b8897b5"
            }
          },
          "metadata": {}
        },
        {
          "output_type": "display_data",
          "data": {
            "text/plain": [
              "Generating test_fr split:   0%|          | 0/12678 [00:00<?, ? examples/s]"
            ],
            "application/vnd.jupyter.widget-view+json": {
              "version_major": 2,
              "version_minor": 0,
              "model_id": "38d99a5deac04a4b97172becea2468e3"
            }
          },
          "metadata": {}
        },
        {
          "output_type": "display_data",
          "data": {
            "text/plain": [
              "Generating test_it split:   0%|          | 0/11069 [00:00<?, ? examples/s]"
            ],
            "application/vnd.jupyter.widget-view+json": {
              "version_major": 2,
              "version_minor": 0,
              "model_id": "203fac0f9bd4439b9d724ed7feeb77a0"
            }
          },
          "metadata": {}
        },
        {
          "output_type": "display_data",
          "data": {
            "text/plain": [
              "Generating test_nl split:   0%|          | 0/10547 [00:00<?, ? examples/s]"
            ],
            "application/vnd.jupyter.widget-view+json": {
              "version_major": 2,
              "version_minor": 0,
              "model_id": "ba995161e631414081050235faa8f8d4"
            }
          },
          "metadata": {}
        },
        {
          "output_type": "display_data",
          "data": {
            "text/plain": [
              "Generating test_pl split:   0%|          | 0/13585 [00:00<?, ? examples/s]"
            ],
            "application/vnd.jupyter.widget-view+json": {
              "version_major": 2,
              "version_minor": 0,
              "model_id": "7d83aaa95f794b3c801d51d8af353dd6"
            }
          },
          "metadata": {}
        },
        {
          "output_type": "display_data",
          "data": {
            "text/plain": [
              "Generating test_pt split:   0%|          | 0/10160 [00:00<?, ? examples/s]"
            ],
            "application/vnd.jupyter.widget-view+json": {
              "version_major": 2,
              "version_minor": 0,
              "model_id": "6fd60e944f1e42e5964a8533ddbbe4fd"
            }
          },
          "metadata": {}
        },
        {
          "output_type": "display_data",
          "data": {
            "text/plain": [
              "Generating test_ru split:   0%|          | 0/11580 [00:00<?, ? examples/s]"
            ],
            "application/vnd.jupyter.widget-view+json": {
              "version_major": 2,
              "version_minor": 0,
              "model_id": "ea0b3ba075334f498004f666d6cf1394"
            }
          },
          "metadata": {}
        },
        {
          "output_type": "display_data",
          "data": {
            "text/plain": [
              "Generating train_de split:   0%|          | 0/98640 [00:00<?, ? examples/s]"
            ],
            "application/vnd.jupyter.widget-view+json": {
              "version_major": 2,
              "version_minor": 0,
              "model_id": "bc2442340f9c43c2a2a14bf56c99e94a"
            }
          },
          "metadata": {}
        },
        {
          "output_type": "display_data",
          "data": {
            "text/plain": [
              "Generating train_en split:   0%|          | 0/92720 [00:00<?, ? examples/s]"
            ],
            "application/vnd.jupyter.widget-view+json": {
              "version_major": 2,
              "version_minor": 0,
              "model_id": "97510ee733ec461599aaea831da5a0e0"
            }
          },
          "metadata": {}
        },
        {
          "output_type": "display_data",
          "data": {
            "text/plain": [
              "Generating train_es split:   0%|          | 0/76320 [00:00<?, ? examples/s]"
            ],
            "application/vnd.jupyter.widget-view+json": {
              "version_major": 2,
              "version_minor": 0,
              "model_id": "283e79547a504b8ca2a4bb5ac19ab4de"
            }
          },
          "metadata": {}
        },
        {
          "output_type": "display_data",
          "data": {
            "text/plain": [
              "Generating train_fr split:   0%|          | 0/100800 [00:00<?, ? examples/s]"
            ],
            "application/vnd.jupyter.widget-view+json": {
              "version_major": 2,
              "version_minor": 0,
              "model_id": "021089ef6b204ba4868cb26324f9ebd6"
            }
          },
          "metadata": {}
        },
        {
          "output_type": "display_data",
          "data": {
            "text/plain": [
              "Generating train_it split:   0%|          | 0/88400 [00:00<?, ? examples/s]"
            ],
            "application/vnd.jupyter.widget-view+json": {
              "version_major": 2,
              "version_minor": 0,
              "model_id": "966b714205914533b2ce6810bcc81923"
            }
          },
          "metadata": {}
        },
        {
          "output_type": "display_data",
          "data": {
            "text/plain": [
              "Generating train_nl split:   0%|          | 0/83680 [00:00<?, ? examples/s]"
            ],
            "application/vnd.jupyter.widget-view+json": {
              "version_major": 2,
              "version_minor": 0,
              "model_id": "8bc6bc6c0c594b1e958e1dd3dce9e707"
            }
          },
          "metadata": {}
        },
        {
          "output_type": "display_data",
          "data": {
            "text/plain": [
              "Generating train_pl split:   0%|          | 0/108160 [00:00<?, ? examples/s]"
            ],
            "application/vnd.jupyter.widget-view+json": {
              "version_major": 2,
              "version_minor": 0,
              "model_id": "c3fbf0f78992499bbb285ee89d76fbc2"
            }
          },
          "metadata": {}
        },
        {
          "output_type": "display_data",
          "data": {
            "text/plain": [
              "Generating train_pt split:   0%|          | 0/80560 [00:00<?, ? examples/s]"
            ],
            "application/vnd.jupyter.widget-view+json": {
              "version_major": 2,
              "version_minor": 0,
              "model_id": "dcca3df24c094cf6abd01cde4d25280e"
            }
          },
          "metadata": {}
        },
        {
          "output_type": "display_data",
          "data": {
            "text/plain": [
              "Generating train_ru split:   0%|          | 0/92320 [00:00<?, ? examples/s]"
            ],
            "application/vnd.jupyter.widget-view+json": {
              "version_major": 2,
              "version_minor": 0,
              "model_id": "aa7ca2802334418d836f5f2dc9634a3b"
            }
          },
          "metadata": {}
        },
        {
          "output_type": "display_data",
          "data": {
            "text/plain": [
              "Generating val_de split:   0%|          | 0/12330 [00:00<?, ? examples/s]"
            ],
            "application/vnd.jupyter.widget-view+json": {
              "version_major": 2,
              "version_minor": 0,
              "model_id": "43c6076cbd5949aea075e70b29b30658"
            }
          },
          "metadata": {}
        },
        {
          "output_type": "display_data",
          "data": {
            "text/plain": [
              "Generating val_en split:   0%|          | 0/11590 [00:00<?, ? examples/s]"
            ],
            "application/vnd.jupyter.widget-view+json": {
              "version_major": 2,
              "version_minor": 0,
              "model_id": "f01863931277429b9bdf9269defa9c9b"
            }
          },
          "metadata": {}
        },
        {
          "output_type": "display_data",
          "data": {
            "text/plain": [
              "Generating val_es split:   0%|          | 0/9540 [00:00<?, ? examples/s]"
            ],
            "application/vnd.jupyter.widget-view+json": {
              "version_major": 2,
              "version_minor": 0,
              "model_id": "85a6b17231af4961a18e575794fc4d2c"
            }
          },
          "metadata": {}
        },
        {
          "output_type": "display_data",
          "data": {
            "text/plain": [
              "Generating val_fr split:   0%|          | 0/12600 [00:00<?, ? examples/s]"
            ],
            "application/vnd.jupyter.widget-view+json": {
              "version_major": 2,
              "version_minor": 0,
              "model_id": "6566a4f2f6c946e2a441c3f6ece24803"
            }
          },
          "metadata": {}
        },
        {
          "output_type": "display_data",
          "data": {
            "text/plain": [
              "Generating val_it split:   0%|          | 0/11050 [00:00<?, ? examples/s]"
            ],
            "application/vnd.jupyter.widget-view+json": {
              "version_major": 2,
              "version_minor": 0,
              "model_id": "d3ca5ba1eb104aad9ecbb67e41e22366"
            }
          },
          "metadata": {}
        },
        {
          "output_type": "display_data",
          "data": {
            "text/plain": [
              "Generating val_nl split:   0%|          | 0/10460 [00:00<?, ? examples/s]"
            ],
            "application/vnd.jupyter.widget-view+json": {
              "version_major": 2,
              "version_minor": 0,
              "model_id": "cfbdeaa71c584a208375827f96ae2b0d"
            }
          },
          "metadata": {}
        },
        {
          "output_type": "display_data",
          "data": {
            "text/plain": [
              "Generating val_pl split:   0%|          | 0/13520 [00:00<?, ? examples/s]"
            ],
            "application/vnd.jupyter.widget-view+json": {
              "version_major": 2,
              "version_minor": 0,
              "model_id": "61f1e4d1ef0442568bbaf69a6080cd91"
            }
          },
          "metadata": {}
        },
        {
          "output_type": "display_data",
          "data": {
            "text/plain": [
              "Generating val_pt split:   0%|          | 0/10070 [00:00<?, ? examples/s]"
            ],
            "application/vnd.jupyter.widget-view+json": {
              "version_major": 2,
              "version_minor": 0,
              "model_id": "828c2664aad54908926ef20a8cab45bc"
            }
          },
          "metadata": {}
        },
        {
          "output_type": "display_data",
          "data": {
            "text/plain": [
              "Generating val_ru split:   0%|          | 0/11540 [00:00<?, ? examples/s]"
            ],
            "application/vnd.jupyter.widget-view+json": {
              "version_major": 2,
              "version_minor": 0,
              "model_id": "206cceb1eee941fc8b2f8c8ee152fdfc"
            }
          },
          "metadata": {}
        }
      ]
    },
    {
      "cell_type": "markdown",
      "source": [
        "Посмотрим на то, как модель распознает именованные сущности."
      ],
      "metadata": {
        "id": "4T5kyFLr_LtW"
      }
    },
    {
      "cell_type": "code",
      "source": [
        "train_dataset"
      ],
      "metadata": {
        "colab": {
          "base_uri": "https://localhost:8080/"
        },
        "id": "xtLKgOAlEWLe",
        "outputId": "419090b0-1bff-4ee4-e58f-ef72d56ac256"
      },
      "execution_count": null,
      "outputs": [
        {
          "output_type": "execute_result",
          "data": {
            "text/plain": [
              "Dataset({\n",
              "    features: ['tokens', 'ner_tags', 'lang'],\n",
              "    num_rows: 76320\n",
              "})"
            ]
          },
          "metadata": {},
          "execution_count": 3
        }
      ]
    },
    {
      "cell_type": "code",
      "source": [
        "from collections import defaultdict\n",
        "\n",
        "class Vocabulary:\n",
        "\n",
        "    def __init__(self, add_begin=True, add_end=True, min_count=1):\n",
        "        self.add_begin = add_begin\n",
        "        self.add_end = add_end\n",
        "        self.min_count = min_count\n",
        "\n",
        "    def fit(self, data):\n",
        "        # специальные символы\n",
        "        self.symbols_ = [\"<PAD>\", \"<UNK>\", \"<BEGIN>\", \"<END>\"]\n",
        "        symbol_counts = defaultdict(int)\n",
        "        for text in data:\n",
        "            for letter in set(text):\n",
        "                symbol_counts[letter] += 1\n",
        "        self.symbols_ += [letter for letter, count in symbol_counts.items() if count >= self.min_count]\n",
        "        self.symbol_codes_ = {letter: index for index, letter in enumerate(self.symbols_)}\n",
        "        return self\n",
        "\n",
        "    @property\n",
        "    def unk(self):\n",
        "        return self.symbol_codes_[\"<UNK>\"]\n",
        "\n",
        "    @property\n",
        "    def begin(self):\n",
        "        return self.symbol_codes_[\"<BEGIN>\"]\n",
        "\n",
        "    @property\n",
        "    def end(self):\n",
        "        return self.symbol_codes_[\"<END>\"]\n",
        "\n",
        "    def __call__(self, data):\n",
        "        if isinstance(data, list) and not isinstance(data[0], str):\n",
        "            return [self.__call__(text) for text in data]\n",
        "        # data --- это отдельный текст\n",
        "        indexes = [self.symbol_codes_.get(symbol, self.unk) for symbol in data]\n",
        "        if self.add_begin:\n",
        "            indexes = [self.begin] + indexes\n",
        "        if self.add_end:\n",
        "            indexes = indexes + [self.end]\n",
        "        return indexes"
      ],
      "metadata": {
        "id": "kJdMh2yCClAj"
      },
      "execution_count": null,
      "outputs": []
    },
    {
      "cell_type": "code",
      "source": [
        "import torch\n",
        "from torch.utils.data import Dataset\n",
        "\n",
        "class SequenceDataset(Dataset):\n",
        "\n",
        "    def __init__(self, data, vocabs=None, fields=None, vocab_params=None,\n",
        "                 add_begin=False, add_end=False,\n",
        "                 device=\"cuda\"):\n",
        "        \"\"\"\n",
        "            data: List[List[dict]],\n",
        "                список предложений,\n",
        "                каждое предложение -- список слов,\n",
        "                каждое слово -- словарь вида {\"word\": word, \"tag\": tag, \"label\": label, ...}\n",
        "        \"\"\"\n",
        "        vocab_params = vocab_params or dict()\n",
        "        self.add_begin = add_begin\n",
        "        self.add_end = add_end\n",
        "        # создаём словари\n",
        "        if vocabs is None:\n",
        "            if fields is None:\n",
        "                raise ValueError(\"You should pass `fields` to train `vocabs` if `vocabs` are not available.\")\n",
        "            vocabs = dict()\n",
        "            for field in fields:\n",
        "                curr_vocab_params = vocab_params.get(field, dict())\n",
        "                # чтобы все словари одинаково добавляли символы начала и конца строки\n",
        "                curr_vocab_params[\"add_begin\"] = add_begin\n",
        "                curr_vocab_params[\"add_end\"] = add_end\n",
        "                vocab = Vocabulary(**curr_vocab_params)\n",
        "                data_for_vocab = [[elem[field] for elem in sent] for sent in data]\n",
        "                vocabs[field] = vocab.fit(data_for_vocab)\n",
        "        self.fields = fields\n",
        "        self.vocabs = vocabs\n",
        "        self.data = data\n",
        "        self.device = device\n",
        "\n",
        "    def _make_mask(self, item):\n",
        "        answer = [True for _ in item]\n",
        "        if self.add_begin:\n",
        "            answer = [False] + answer\n",
        "        if self.add_end:\n",
        "            answer.append(False)\n",
        "        return answer\n",
        "\n",
        "    def __getitem__(self, index):\n",
        "        answer = dict()\n",
        "        for field, vocab in self.vocabs.items():\n",
        "            answer_field = self.fields.get(field, field)\n",
        "            # elem = {\"word\": ..., \"tag\": ..., \"label\": ...}\n",
        "            answer[answer_field] = vocab([elem[field] for elem in self.data[index]])\n",
        "        # маска нужна, чтобы потом отличать позиции реальных ответов от позиций паддинга и вспомогательных символов\n",
        "        answer[\"mask\"] = self._make_mask(self.data[index])\n",
        "        answer = {key: torch.tensor(value, dtype=torch.int64).to(self.device) for key, value in answer.items()}\n",
        "        answer[\"index\"] = index\n",
        "        return answer\n",
        "\n",
        "    def __len__(self):\n",
        "        return len(self.data)"
      ],
      "metadata": {
        "id": "WQXUURxoC0DM"
      },
      "execution_count": null,
      "outputs": []
    },
    {
      "cell_type": "code",
      "source": [
        "import numpy as np\n",
        "from torch.utils.data import DataLoader\n",
        "\n",
        "def collate_fn(samples, dtype=torch.int64, keys=None):\n",
        "    if keys is None:\n",
        "        keys = [\"input_ids\", \"labels\", \"mask\"]\n",
        "    device = samples[0][\"input_ids\"].device\n",
        "    lengths = [elem[\"input_ids\"].shape[0] for elem in samples]\n",
        "    L = max(elem[\"input_ids\"].shape[0] for elem in samples)\n",
        "\n",
        "    answer = dict()\n",
        "    for key in keys:\n",
        "        answer[key] = torch.stack([\n",
        "            torch.cat([\n",
        "                elem[key],\n",
        "                torch.zeros(size=(L-len(elem[key]),), dtype=dtype).to(device)\n",
        "            ]) for elem in samples\n",
        "        ])\n",
        "\n",
        "    answer[\"index\"] = np.array([elem[\"index\"] for elem in samples])\n",
        "    return answer"
      ],
      "metadata": {
        "id": "IeTq49T5C3fC"
      },
      "execution_count": null,
      "outputs": []
    },
    {
      "cell_type": "code",
      "source": [
        "def ner(dataset):\n",
        "  ner_dataset = list()\n",
        "  for s in dataset:\n",
        "    ner_s = list()\n",
        "    for token, ner_tag in zip(s['tokens'], s['ner_tags']):\n",
        "        w = token\n",
        "        ner_w = {\n",
        "          'word': w,\n",
        "          'tag': '',\n",
        "          'label': labels_dict[ner_tag]\n",
        "        }\n",
        "        ner_s.append(ner_w)\n",
        "    ner_dataset.append(ner_s)\n",
        "  return ner_dataset"
      ],
      "metadata": {
        "id": "PGRvpPD7DFFF"
      },
      "execution_count": null,
      "outputs": []
    },
    {
      "cell_type": "code",
      "source": [
        "train_dataset = ner(train_dataset)\n",
        "val_dataset = ner(val_dataset)\n",
        "test_dataset = ner(test_dataset)"
      ],
      "metadata": {
        "id": "_MEs1qVMDmw1"
      },
      "execution_count": null,
      "outputs": []
    },
    {
      "cell_type": "code",
      "source": [
        "from typing import Dict\n",
        "\n",
        "X_train = SequenceDataset(train_dataset,\n",
        "                          fields={\"word\": \"input_ids\", \"tag\": \"tags\", \"label\": \"labels\"},\n",
        "                          vocab_params={\n",
        "                            \"word\": {\"min_count\": 3},\n",
        "                            \"tag\": {\"min_count\": 3}\n",
        "                          },\n",
        "                          add_begin=True\n",
        "                         )\n",
        "vocabs: Dict[str, Vocabulary] = X_train.vocabs\n",
        "for field, vocab in vocabs.items():\n",
        "    print(field, len(vocab.symbols_))\n",
        "print(vocabs[\"tag\"].symbols_)\n",
        "print(vocabs[\"label\"].symbols_)\n",
        "print(\"\")\n",
        "\n",
        "X_dev = SequenceDataset(val_dataset, fields={\"word\": \"input_ids\", \"tag\": \"tags\", \"label\": \"labels\"}, vocabs=vocabs, add_begin=True)\n",
        "X_test = SequenceDataset(test_dataset, fields={\"word\": \"input_ids\", \"tag\": \"tags\", \"label\": \"labels\"}, vocabs=vocabs, add_begin=True)\n",
        "for field, elem in X_test[4].items():\n",
        "    print(field, elem)"
      ],
      "metadata": {
        "colab": {
          "base_uri": "https://localhost:8080/"
        },
        "id": "5FAnL1knC4Kz",
        "outputId": "ecfb4ead-3be5-4db8-da4f-a151c4503541"
      },
      "execution_count": null,
      "outputs": [
        {
          "output_type": "stream",
          "name": "stdout",
          "text": [
            "word 31773\n",
            "tag 5\n",
            "label 13\n",
            "['<PAD>', '<UNK>', '<BEGIN>', '<END>', '']\n",
            "['<PAD>', '<UNK>', '<BEGIN>', '<END>', 'I-PER', 'B-PER', 'O', 'B-LOC', 'B-MISC', 'I-MISC', 'I-LOC', 'I-ORG', 'B-ORG']\n",
            "\n",
            "input_ids tensor([    2,    47, 10784,   370,    54, 11840,    22,    57,   188,    39,\n",
            "         6437,   248,    22,   996,  9871,    23,   474,    23,    10,     1,\n",
            "           11], device='cuda:0')\n",
            "tags tensor([2, 4, 4, 4, 4, 4, 4, 4, 4, 4, 4, 4, 4, 4, 4, 4, 4, 4, 4, 4, 4],\n",
            "       device='cuda:0')\n",
            "labels tensor([2, 6, 6, 6, 6, 6, 6, 6, 6, 6, 7, 6, 6, 6, 6, 6, 6, 6, 6, 6, 6],\n",
            "       device='cuda:0')\n",
            "mask tensor([0, 1, 1, 1, 1, 1, 1, 1, 1, 1, 1, 1, 1, 1, 1, 1, 1, 1, 1, 1, 1],\n",
            "       device='cuda:0')\n",
            "index 4\n"
          ]
        }
      ]
    },
    {
      "cell_type": "code",
      "source": [
        "from functools import partial\n",
        "\n",
        "torch.manual_seed(43)\n",
        "collate_fn_with_tags = partial(collate_fn, keys=[\"input_ids\", \"tags\", \"labels\", \"mask\"])\n",
        "train_dataloader = DataLoader(X_train, batch_size=16, shuffle=True, collate_fn=collate_fn_with_tags)\n",
        "dev_dataloader = DataLoader(X_dev, batch_size=16, shuffle=False, collate_fn=collate_fn_with_tags)\n",
        "test_dataloader = DataLoader(X_test, batch_size=16, shuffle=False, collate_fn=collate_fn_with_tags)\n",
        "for i, batch in enumerate(train_dataloader):\n",
        "    if i >= 10:\n",
        "        break\n",
        "    for key, value in batch.items():\n",
        "        print(key, tuple(value.shape), end=\" \")\n",
        "    print(\"\")"
      ],
      "metadata": {
        "colab": {
          "base_uri": "https://localhost:8080/"
        },
        "id": "e4Iu4sZ6FHSF",
        "outputId": "e4763fbf-89aa-4b66-ff96-0dfc97c6e543"
      },
      "execution_count": null,
      "outputs": [
        {
          "output_type": "stream",
          "name": "stdout",
          "text": [
            "input_ids (16, 66) tags (16, 66) labels (16, 66) mask (16, 66) index (16,) \n",
            "input_ids (16, 44) tags (16, 44) labels (16, 44) mask (16, 44) index (16,) \n",
            "input_ids (16, 56) tags (16, 56) labels (16, 56) mask (16, 56) index (16,) \n",
            "input_ids (16, 66) tags (16, 66) labels (16, 66) mask (16, 66) index (16,) \n",
            "input_ids (16, 47) tags (16, 47) labels (16, 47) mask (16, 47) index (16,) \n",
            "input_ids (16, 57) tags (16, 57) labels (16, 57) mask (16, 57) index (16,) \n",
            "input_ids (16, 47) tags (16, 47) labels (16, 47) mask (16, 47) index (16,) \n",
            "input_ids (16, 70) tags (16, 70) labels (16, 70) mask (16, 70) index (16,) \n",
            "input_ids (16, 62) tags (16, 62) labels (16, 62) mask (16, 62) index (16,) \n",
            "input_ids (16, 55) tags (16, 55) labels (16, 55) mask (16, 55) index (16,) \n"
          ]
        }
      ]
    },
    {
      "cell_type": "code",
      "source": [
        "def make_activation(s):\n",
        "    s = s.lower()\n",
        "    if s == \"tanh\":\n",
        "        return torch.nn.Tanh()\n",
        "    elif s == \"sigmoid\":\n",
        "        return torch.nn.Sigmoid()\n",
        "    elif s == \"relu\":\n",
        "        return torch.nn.ReLU()\n",
        "    elif s is None:\n",
        "        return None\n",
        "    raise ValueError(f\"Неизвестная активация {s}\")\n",
        "\n",
        "import torch\n",
        "import torch.nn as nn\n",
        "\n",
        "class BasicNeuralTagger(nn.Module):\n",
        "\n",
        "    def __init__(self, vocab_size, labels_number, lr=0.001,\n",
        "                 device=\"cpu\", **kwargs):\n",
        "        super(BasicNeuralTagger, self).__init__()\n",
        "        self.vocab_size = vocab_size\n",
        "        self.labels_number = labels_number\n",
        "        self.build_network(vocab_size, labels_number, **kwargs)\n",
        "        # определяем функцию потерь\n",
        "        self.criterion = nn.NLLLoss(reduction=\"mean\")\n",
        "        self.device = device\n",
        "        if self.device is not None:\n",
        "            self.to(self.device)\n",
        "        self.optimizer = torch.optim.Adam(self.parameters(), lr=lr)\n",
        "\n",
        "    def build_network(self, **kwargs):\n",
        "        raise NotImplementedError(\"You should implement network construction in your derived class.\")\n",
        "\n",
        "    def forward(self, inputs): # __call__\n",
        "        raise NotImplementedError(\"You should implement forward pass in your derived class.\")\n",
        "\n",
        "    def train_on_batch(self, input_ids, labels, mask=None, **kwargs):\n",
        "        # kwargs = {\"arg1\": value1, \"arg2\": value2}\n",
        "        # f(arg0, **kwargs) = f(arg0, arg1=value1, arg2=value2)\n",
        "        self.train()\n",
        "        self.optimizer.zero_grad() # обнуление градиента\n",
        "        batch_output = self._validate(input_ids, labels, mask=mask, **kwargs)\n",
        "        batch_output[\"loss\"].backward() # вычисление градиентного спуска\n",
        "        self.optimizer.step() # изменение параметров модели\n",
        "        return batch_output\n",
        "\n",
        "    def validate_on_batch(self, input_ids, labels, mask=None, **kwargs):\n",
        "        self.eval()\n",
        "        with torch.no_grad():\n",
        "            return self._validate(input_ids, labels, mask=mask, **kwargs)\n",
        "\n",
        "    def _validate(self, input_ids, labels, mask=None, **kwargs):\n",
        "        if self.device is not None:\n",
        "            input_ids, labels = input_ids.to(self.device), labels.to(self.device)\n",
        "            if mask is not None:\n",
        "                mask = mask.to(self.device)\n",
        "        batch_output = self(input_ids, **kwargs) #   self.forward(x) = self.__call__(x)\n",
        "        # классы надо переместить на размерность, идущую после батча\n",
        "        # log_probs.shape = (B, L, K), y.shape = (B, L)\n",
        "        if mask is not None: # по позициям, где mask=False, не считается градиент\n",
        "            labels = torch.where(mask.bool(), labels, -100)\n",
        "        loss = self.criterion(batch_output[\"log_probs\"].permute(0, 2, 1), labels)\n",
        "        # return {\"loss\": loss, \"labels\": batch_output[\"labels\"], \"log_probs\": batch_output[\"log_probs\"]}\n",
        "        batch_output[\"loss\"] = loss\n",
        "        return batch_output"
      ],
      "metadata": {
        "id": "XRxFjkIVFNV0"
      },
      "execution_count": null,
      "outputs": []
    },
    {
      "cell_type": "code",
      "source": [
        "class MultilayerRNNTagger(BasicNeuralTagger):\n",
        "\n",
        "    def build_network(self, vocab_size, labels_number, embeddings_dim=32,\n",
        "                      n_layers=1, n_hidden=128, dropout=0.0):\n",
        "        self.n_layers = n_layers\n",
        "        self.n_hidden = n_hidden\n",
        "        self.embedding = nn.Embedding(vocab_size, embeddings_dim, padding_idx=0)\n",
        "        # может быть несколько рекуррентных слоёв\n",
        "        self.rnn = torch.nn.GRU(embeddings_dim, self.n_hidden, self.n_layers,\n",
        "                                batch_first=True, bidirectional=True, dropout=dropout)\n",
        "        self.dropout = torch.nn.Dropout(dropout)\n",
        "        self.dense = nn.Linear(2*self.n_hidden, labels_number)\n",
        "        self.log_softmax = nn.LogSoftmax(dim=-1)\n",
        "\n",
        "    def forward(self, input_ids, **kwargs):\n",
        "        if self.device is not None:\n",
        "            input_ids = input_ids.to(self.device)\n",
        "        embeddings = self.embedding(input_ids)\n",
        "        rnn_outputs, rnn_state = self.rnn(embeddings)\n",
        "        rnn_outputs = self.dropout(rnn_outputs)\n",
        "        # финальный слой\n",
        "        logits = self.dense(rnn_outputs)\n",
        "        log_probs = self.log_softmax(logits)\n",
        "        _, labels = torch.max(log_probs, dim=-1)\n",
        "        return {\"log_probs\": log_probs, \"labels\": labels}"
      ],
      "metadata": {
        "id": "K-_hT451FQku"
      },
      "execution_count": null,
      "outputs": []
    },
    {
      "cell_type": "code",
      "source": [
        "from tqdm.auto import tqdm\n",
        "\n",
        "def update_metrics(metrics, batch_output, batch_labels, mask=None, to_print=False):\n",
        "    n_batches = metrics[\"n_batches\"]\n",
        "    # пересчитываем средний штраф\n",
        "    metrics[\"loss\"] = (metrics[\"loss\"] * n_batches + batch_output[\"loss\"].item()) / (n_batches + 1)\n",
        "    metrics[\"n_batches\"] += 1\n",
        "    # маска должна быть False там, где 0,2,3\n",
        "    # или лучше дополнительно передать в функцию маску из батча\n",
        "    if mask is not None:\n",
        "        mask = mask.cpu().numpy().astype(\"int\")\n",
        "    else:\n",
        "        mask = (batch_labels != 0).cpu().numpy().astype(\"int\")\n",
        "    are_equal = (batch_output[\"labels\"] == batch_labels).cpu().numpy().astype(\"int\")\n",
        "    curr_correct = (are_equal * mask).sum() # количество совпавших позиций\n",
        "    curr_total = mask.sum() # количество совпавших реальных позиций\n",
        "    # if to_print:\n",
        "    #     print(batch_output[\"labels\"].cpu().numpy())\n",
        "    #     print(batch_labels.cpu().numpy())\n",
        "    #     print(are_equal)\n",
        "    #     print(mask)\n",
        "    #     print(curr_correct, curr_total)\n",
        "    metrics[\"correct\"] += (are_equal * mask).sum()\n",
        "    metrics[\"total\"] += mask.sum()\n",
        "    # np.maximum(are_equal, 1-mask) # are_equal или mask = False\n",
        "    are_seq_correct = np.min(np.maximum(are_equal, 1-mask), axis=1)\n",
        "    # if to_print:\n",
        "    #     print(\"\")\n",
        "    #     print(are_seq_correct, mask.shape[0])\n",
        "    metrics[\"sent_correct\"] += are_seq_correct.sum()\n",
        "    metrics[\"sent_total\"] += mask.shape[0]\n",
        "    metrics[\"accuracy\"] = metrics[\"correct\"] / max(metrics[\"total\"], 1)\n",
        "    metrics[\"sent_accuracy\"] = metrics[\"sent_correct\"] / max(metrics[\"sent_total\"], 1)\n",
        "\n",
        "def do_epoch(model, dataloader, mode=\"validate\", epoch=1):\n",
        "    metrics = {\"correct\": 0, \"total\": 0, \"sent_correct\": 0, \"sent_total\": 0, \"loss\": 0.0, \"n_batches\": 0}\n",
        "    func = model.train_on_batch if mode == \"train\" else model.validate_on_batch\n",
        "    progress_bar = tqdm(dataloader, leave=True)\n",
        "    progress_bar.set_description(f\"{mode}, epoch={epoch}\")\n",
        "    for i, batch in enumerate(progress_bar):\n",
        "        batch_output = func(**batch)\n",
        "        update_metrics(metrics, batch_output, batch[\"labels\"], mask=batch[\"mask\"])\n",
        "        progress_bar.set_postfix({\"loss\": round(metrics[\"loss\"], 4), \"acc\": round(100 * metrics[\"accuracy\"], 2),\n",
        "                                  \"sent_acc\": round(100 * metrics[\"sent_accuracy\"], 2)})\n",
        "        # if i == 500:\n",
        "        #     sys.exit()\n",
        "    return metrics"
      ],
      "metadata": {
        "id": "RTCEIW_OFSiX"
      },
      "execution_count": null,
      "outputs": []
    },
    {
      "cell_type": "code",
      "source": [
        "!pip install seqeval"
      ],
      "metadata": {
        "colab": {
          "base_uri": "https://localhost:8080/"
        },
        "id": "4EL4jwgIFafB",
        "outputId": "e3a3e5ec-4a9b-45e8-fa95-8c26c7752a00"
      },
      "execution_count": null,
      "outputs": [
        {
          "output_type": "stream",
          "name": "stdout",
          "text": [
            "Collecting seqeval\n",
            "  Downloading seqeval-1.2.2.tar.gz (43 kB)\n",
            "\u001b[?25l     \u001b[90m━━━━━━━━━━━━━━━━━━━━━━━━━━━━━━━━━━━━━━━━\u001b[0m \u001b[32m0.0/43.6 kB\u001b[0m \u001b[31m?\u001b[0m eta \u001b[36m-:--:--\u001b[0m\r\u001b[2K     \u001b[90m━━━━━━━━━━━━━━━━━━━━━━━━━━━━━━━━━━━━━━━━\u001b[0m \u001b[32m43.6/43.6 kB\u001b[0m \u001b[31m3.6 MB/s\u001b[0m eta \u001b[36m0:00:00\u001b[0m\n",
            "\u001b[?25h  Preparing metadata (setup.py) ... \u001b[?25l\u001b[?25hdone\n",
            "Requirement already satisfied: numpy>=1.14.0 in /usr/local/lib/python3.11/dist-packages (from seqeval) (1.26.4)\n",
            "Requirement already satisfied: scikit-learn>=0.21.3 in /usr/local/lib/python3.11/dist-packages (from seqeval) (1.6.1)\n",
            "Requirement already satisfied: scipy>=1.6.0 in /usr/local/lib/python3.11/dist-packages (from scikit-learn>=0.21.3->seqeval) (1.13.1)\n",
            "Requirement already satisfied: joblib>=1.2.0 in /usr/local/lib/python3.11/dist-packages (from scikit-learn>=0.21.3->seqeval) (1.4.2)\n",
            "Requirement already satisfied: threadpoolctl>=3.1.0 in /usr/local/lib/python3.11/dist-packages (from scikit-learn>=0.21.3->seqeval) (3.5.0)\n",
            "Building wheels for collected packages: seqeval\n",
            "  Building wheel for seqeval (setup.py) ... \u001b[?25l\u001b[?25hdone\n",
            "  Created wheel for seqeval: filename=seqeval-1.2.2-py3-none-any.whl size=16161 sha256=77e19fd04c832818c1ac35e6c3bdea91974b78f75c99c05da21000dac1b2f6db\n",
            "  Stored in directory: /root/.cache/pip/wheels/bc/92/f0/243288f899c2eacdfa8c5f9aede4c71a9bad0ee26a01dc5ead\n",
            "Successfully built seqeval\n",
            "Installing collected packages: seqeval\n",
            "Successfully installed seqeval-1.2.2\n"
          ]
        }
      ]
    },
    {
      "cell_type": "code",
      "source": [
        "def predict_with_model(model, X: SequenceDataset, batch_size=32, batch_collate_fn=collate_fn):\n",
        "    model.eval()\n",
        "    dataloader = DataLoader(X, batch_size=batch_size, shuffle=False, collate_fn=batch_collate_fn)\n",
        "    answer = [None] * len(X)\n",
        "    for batch in dataloader:\n",
        "        with torch.no_grad():\n",
        "            batch_answer = model(**batch)\n",
        "        labels = batch_answer[\"labels\"].cpu().numpy()\n",
        "        # probs = batch_answer.cpu().numpy()\n",
        "        # labels = probs.argmax(axis=-1)\n",
        "        for index, curr_labels, curr_mask in zip(batch[\"index\"], labels, batch[\"mask\"].bool().cpu().numpy()):\n",
        "            # curr_labels[curr_mask] -- только те элементы в curr_labels, где curr_mask=True\n",
        "            answer[index] = np.take(X.vocabs[\"label\"].symbols_, curr_labels[curr_mask])\n",
        "    return answer"
      ],
      "metadata": {
        "id": "t27j925kFcVh"
      },
      "execution_count": null,
      "outputs": []
    },
    {
      "cell_type": "code",
      "source": [
        "model = MultilayerRNNTagger(\n",
        "            vocab_size=len(vocabs[\"word\"].symbols_),\n",
        "            labels_number=len(vocabs[\"label\"].symbols_),\n",
        "            embeddings_dim=300, n_hidden=128,\n",
        "            n_layers=2, dropout=0.1, device=\"cuda\"\n",
        ")\n",
        "for name, elem in model.named_parameters():\n",
        "    print(name, elem.device, elem.shape)"
      ],
      "metadata": {
        "colab": {
          "base_uri": "https://localhost:8080/"
        },
        "id": "1wmW_-cVFe_v",
        "outputId": "b984acdd-8007-4882-d4ae-ff1936b923eb"
      },
      "execution_count": null,
      "outputs": [
        {
          "output_type": "stream",
          "name": "stdout",
          "text": [
            "embedding.weight cuda:0 torch.Size([31773, 300])\n",
            "rnn.weight_ih_l0 cuda:0 torch.Size([384, 300])\n",
            "rnn.weight_hh_l0 cuda:0 torch.Size([384, 128])\n",
            "rnn.bias_ih_l0 cuda:0 torch.Size([384])\n",
            "rnn.bias_hh_l0 cuda:0 torch.Size([384])\n",
            "rnn.weight_ih_l0_reverse cuda:0 torch.Size([384, 300])\n",
            "rnn.weight_hh_l0_reverse cuda:0 torch.Size([384, 128])\n",
            "rnn.bias_ih_l0_reverse cuda:0 torch.Size([384])\n",
            "rnn.bias_hh_l0_reverse cuda:0 torch.Size([384])\n",
            "rnn.weight_ih_l1 cuda:0 torch.Size([384, 256])\n",
            "rnn.weight_hh_l1 cuda:0 torch.Size([384, 128])\n",
            "rnn.bias_ih_l1 cuda:0 torch.Size([384])\n",
            "rnn.bias_hh_l1 cuda:0 torch.Size([384])\n",
            "rnn.weight_ih_l1_reverse cuda:0 torch.Size([384, 256])\n",
            "rnn.weight_hh_l1_reverse cuda:0 torch.Size([384, 128])\n",
            "rnn.bias_ih_l1_reverse cuda:0 torch.Size([384])\n",
            "rnn.bias_hh_l1_reverse cuda:0 torch.Size([384])\n",
            "dense.weight cuda:0 torch.Size([13, 256])\n",
            "dense.bias cuda:0 torch.Size([13])\n"
          ]
        }
      ]
    },
    {
      "cell_type": "code",
      "source": [
        "for i in range(50):\n",
        "    loss = model.train_on_batch(**batch)[\"loss\"].item()\n",
        "    if i < 5 or (i+1) % 10 == 0:\n",
        "        print(i, loss)\n",
        "print(model.validate_on_batch(**batch)[\"loss\"].item())"
      ],
      "metadata": {
        "colab": {
          "base_uri": "https://localhost:8080/"
        },
        "id": "VFkjFffBFj15",
        "outputId": "a16993ef-29b8-4f5e-bcee-8a15dd79ee2b"
      },
      "execution_count": null,
      "outputs": [
        {
          "output_type": "stream",
          "name": "stdout",
          "text": [
            "0 2.631725788116455\n",
            "1 2.2687418460845947\n",
            "2 1.888826847076416\n",
            "3 1.4833780527114868\n",
            "4 1.072886347770691\n",
            "9 0.616118311882019\n",
            "19 0.336271196603775\n",
            "29 0.2226106971502304\n",
            "39 0.10852573066949844\n",
            "49 0.04987659305334091\n",
            "0.04340431094169617\n"
          ]
        }
      ]
    },
    {
      "cell_type": "code",
      "source": [
        "class MultilayerConvTagger(BasicNeuralTagger):\n",
        "\n",
        "    def build_network(self, vocab_size, labels_number, embeddings_dim=32,\n",
        "                      n_layers=1, window=5, n_hidden=128, dropout=0.0,\n",
        "                      use_batch_norm=False, activation=\"relu\"):\n",
        "        self.n_layers = n_layers\n",
        "        # n_hidden и n_window могут быть своими для каждого слоя,\n",
        "        # поэтому если передано число, мы его размножаем на все слои.\n",
        "        if isinstance(n_hidden, int):\n",
        "            n_hidden = (n_hidden,) # кортеж размерности 1\n",
        "        if isinstance(n_hidden, tuple):\n",
        "            n_hidden = [n_hidden] * self.n_layers\n",
        "        self.n_hidden = n_hidden\n",
        "        if isinstance(window, int):\n",
        "            window = (window,)\n",
        "        if isinstance(window, tuple):\n",
        "            window = [window] * self.n_layers\n",
        "        self.window = window\n",
        "        # print(self.n_hidden, self.window)\n",
        "        self.use_batch_norm = use_batch_norm\n",
        "        self.embedding = nn.Embedding(vocab_size, embeddings_dim, padding_idx=0)\n",
        "        # может быть несколько слоёв свёрток\n",
        "        self.convolutions = nn.ModuleList()\n",
        "        for i in range(self.n_layers):\n",
        "            input_dim = output_dim if i > 0 else embeddings_dim # входная размерность\n",
        "            # convolution = nn.Conv1d(input_dim, self.n_hidden[i], self.window[i],\n",
        "            #                         padding=(self.window[i]-1)//2)\n",
        "            convolutions = nn.ModuleList()\n",
        "            output_dim = 0\n",
        "            for n_out, width in zip(self.n_hidden[i], self.window[i]):\n",
        "                convolution = nn.Conv1d(input_dim, n_out, width,\n",
        "                                        padding=(width-1)//2)\n",
        "                convolutions.append(convolution)\n",
        "                output_dim += n_out\n",
        "            layer = {\n",
        "                \"convolutions\": convolutions,\n",
        "                \"activation\": make_activation(activation),\n",
        "                \"dropout\": nn.Dropout(p=dropout)\n",
        "            }\n",
        "            if self.use_batch_norm:\n",
        "                layer[\"batch_norm\"] = nn.BatchNorm1d(output_dim)\n",
        "            self.convolutions.append(nn.ModuleDict(layer))\n",
        "        self.dense = nn.Linear(output_dim, labels_number)\n",
        "        self.log_softmax = nn.LogSoftmax(dim=-1)\n",
        "\n",
        "    def forward(self, input_ids, **kwargs):\n",
        "        if self.device is not None:\n",
        "            input_ids = input_ids.to(self.device) # B * L\n",
        "        embeddings = self.embedding(input_ids) # B * L * d_emb\n",
        "        # для свёрточного слоя нужно сделать второй размерностью число каналов\n",
        "        conv_inputs = embeddings.permute([0, 2, 1]) # B * d_emb * L\n",
        "        for layer in self.convolutions:\n",
        "            # conv_outputs = layer[\"convolution\"](conv_inputs) # B * h_out * L\n",
        "            conv_outputs_list = []\n",
        "            for convolution in layer[\"convolutions\"]:\n",
        "                conv_outputs_list.append(convolution(conv_inputs))\n",
        "            conv_outputs = torch.cat(conv_outputs_list, dim=1)\n",
        "            if self.use_batch_norm:\n",
        "                conv_outputs = layer[\"batch_norm\"](conv_outputs)\n",
        "            conv_outputs = layer[\"activation\"](conv_outputs)\n",
        "            conv_outputs = layer[\"dropout\"](conv_outputs)\n",
        "            conv_inputs = conv_outputs\n",
        "        conv_outputs = conv_outputs.permute([0, 2, 1]) # B * L * d_emb\n",
        "        # финальный слой\n",
        "        logits = self.dense(conv_outputs) # B * L * labels_number\n",
        "        log_probs = self.log_softmax(logits)\n",
        "        _, labels = torch.max(log_probs, dim=-1)\n",
        "        return {\"log_probs\": log_probs, \"labels\": labels}"
      ],
      "metadata": {
        "id": "1Miwcym5G-kK"
      },
      "execution_count": null,
      "outputs": []
    },
    {
      "cell_type": "code",
      "source": [
        "model = MultilayerConvTagger(\n",
        "            vocab_size=len(vocabs[\"word\"].symbols_),\n",
        "            labels_number=len(vocabs[\"label\"].symbols_),\n",
        "            embeddings_dim=200, n_hidden=200,\n",
        "            n_layers=1, dropout=0.1, device=\"cuda\",\n",
        "            use_batch_norm=True\n",
        ")\n",
        "for name, elem in model.named_parameters():\n",
        "    print(name, elem.device, elem.shape)"
      ],
      "metadata": {
        "colab": {
          "base_uri": "https://localhost:8080/"
        },
        "id": "Q3bnfGHkHCk3",
        "outputId": "e69d66eb-d700-4b14-be86-61573488ef77"
      },
      "execution_count": null,
      "outputs": [
        {
          "output_type": "stream",
          "name": "stdout",
          "text": [
            "embedding.weight cuda:0 torch.Size([31773, 200])\n",
            "convolutions.0.convolutions.0.weight cuda:0 torch.Size([200, 200, 5])\n",
            "convolutions.0.convolutions.0.bias cuda:0 torch.Size([200])\n",
            "convolutions.0.batch_norm.weight cuda:0 torch.Size([200])\n",
            "convolutions.0.batch_norm.bias cuda:0 torch.Size([200])\n",
            "dense.weight cuda:0 torch.Size([13, 200])\n",
            "dense.bias cuda:0 torch.Size([13])\n"
          ]
        }
      ]
    },
    {
      "cell_type": "code",
      "source": [
        "for i in range(200):\n",
        "    loss = model.train_on_batch(**batch)[\"loss\"].item()\n",
        "    if i < 5 or (i+1) % 10 == 0:\n",
        "        print(i, loss)\n",
        "print(model.validate_on_batch(**batch)[\"loss\"].item())"
      ],
      "metadata": {
        "colab": {
          "base_uri": "https://localhost:8080/"
        },
        "id": "ISX1u_HfHFDR",
        "outputId": "4bc24b11-b14d-475d-edd3-bb3979a3535a"
      },
      "execution_count": null,
      "outputs": [
        {
          "output_type": "stream",
          "name": "stdout",
          "text": [
            "0 2.552400827407837\n",
            "1 1.9944496154785156\n",
            "2 1.539389967918396\n",
            "3 1.1952087879180908\n",
            "4 0.9199504256248474\n",
            "9 0.2827337682247162\n",
            "19 0.06036640703678131\n",
            "29 0.02469124086201191\n",
            "39 0.015660321339964867\n",
            "49 0.010815135203301907\n",
            "59 0.00855673011392355\n",
            "69 0.00769767863675952\n",
            "79 0.006391619332134724\n",
            "89 0.005458323284983635\n",
            "99 0.004902363754808903\n",
            "109 0.004260969813913107\n",
            "119 0.0038363325875252485\n",
            "129 0.003490782342851162\n",
            "139 0.003141466761007905\n",
            "149 0.0028615060728043318\n",
            "159 0.002742367796599865\n",
            "169 0.0026863052044063807\n",
            "179 0.002303724642843008\n",
            "189 0.0021715806797146797\n",
            "199 0.002013653051108122\n",
            "0.0018158501479774714\n"
          ]
        }
      ]
    },
    {
      "cell_type": "markdown",
      "source": [
        "# RNN"
      ],
      "metadata": {
        "id": "VGSQqouGGEIQ"
      }
    },
    {
      "cell_type": "code",
      "source": [
        "NEPOCHS = 5\n",
        "model1 = MultilayerRNNTagger(\n",
        "            vocab_size=len(vocabs[\"word\"].symbols_),\n",
        "            labels_number=len(vocabs[\"label\"].symbols_),\n",
        "            embeddings_dim=300, n_hidden=128,\n",
        "            n_layers=2, dropout=0.1, device=\"cuda\"\n",
        ")\n",
        "best_val_acc = 0.0\n",
        "checkpoint = \"checkpoint.pt\"\n",
        "for epoch in range(NEPOCHS):\n",
        "    train_metrics = do_epoch(model1, train_dataloader, mode=\"train\", epoch=epoch+1)\n",
        "    val_metrics = do_epoch(model1, dev_dataloader, mode=\"validate\", epoch=epoch+1)\n",
        "    if val_metrics[\"sent_accuracy\"] > best_val_acc:\n",
        "        best_val_acc = val_metrics[\"sent_accuracy\"]\n",
        "        torch.save(model1.state_dict(), checkpoint)\n",
        "\n",
        "do_epoch(model1, dev_dataloader, mode=\"validate\", epoch=\"evaluate\")\n",
        "do_epoch(model1, test_dataloader, mode=\"validate\", epoch=\"test\")"
      ],
      "metadata": {
        "colab": {
          "base_uri": "https://localhost:8080/",
          "height": 545,
          "referenced_widgets": [
            "814e9a4e54414d80b1e55e626cace525",
            "3337e8905ffa49db8f1f688bb6dd4d65",
            "7bab394074674e3ca68b577696bff88d",
            "e934eec9f6bc4612bf053ddfc21e6f8f",
            "74175197ce714e6ea9e5aa231e938742",
            "642b2b5db9d8445d80a4d06a5ebf6b78",
            "05749c7c6dae463c9d0724d108fbb530",
            "bf163a65308b4b1295798a19341db555",
            "ee14427f7b87427cbfff5783b285a8d7",
            "71e1d9cc67b34e3aab9e36a7943d7ad8",
            "2fd5166eccbf4ab7addcf7c5f9a3dcd6",
            "6a8f9e90779b4b99a5626db3fdbeb6ee",
            "49aa7a91362041c7b7828627370f130c",
            "bef6e68ee7cd4af1b83b6c4fd22b9734",
            "a785778130394a0c8bee47f17ce06ff0",
            "37ddcd7f528d4f1cbe00411a950909bf",
            "e2d23a2056fc4325b5efdb9f50a98c25",
            "0618955445ad4d6e9b0e3ce5e5e1f211",
            "113641e1522e4c84af05cb6c376df18a",
            "651b16bf126f463cbeaf2cc49a80a279",
            "a74fc6b1d76948d4ab9186e756b6cae4",
            "89066e01cd8345e9820c99787c461dfd",
            "2eeecf31162346689f9c29ee376e2239",
            "2ef448cd620e453289e94aeb08417ff4",
            "fbb7b4147d424d0aa914f7ffc5b0b701",
            "1321348fd6324656bb3e9ead5d0739f9",
            "db921b03f34543d197ca92dae7b7da54",
            "bce50725ce86468ba92e7e5ecc0822c5",
            "d320cef0a52e41c9b12d8ec104570449",
            "17bae516020441fa864b38f6ca604ff5",
            "c4ac8f331d63458eb7cd963d736dff22",
            "ac6127ae7a7743fbbab35c8275786426",
            "a522ab3ebe7444649dae1ae7d47a4c45",
            "6451f1f0f9974bdca98b53c08320ffd8",
            "10f6fecfd3d747d6afd3f7b7abdcc3d4",
            "e02498ad5bcb40939ce0ab8016247d82",
            "77740b84c24045e9b3a4b203d099bccf",
            "772f68010e06439ba8f1ec4264fe7ce5",
            "b4a24e910eaa4b05a9f250cf0fe33d6f",
            "961fc6c91ea74406951241901004190c",
            "5aa07f198fed4b79983569645db21f43",
            "ae4185c59f584182acf6654e69f93cb5",
            "1d960b4e589c4ffeb611ee4a1d185f9d",
            "28ad7fb115414d68bf8db61dad4b183d",
            "e693f61e0f624f81b71decae7d363a03",
            "310734d6853b4779b51fa80428e9249c",
            "2b4a711c393a4e81848e66e8a8b5c2e8",
            "b34423fa8dab46fcbe81af45945bba9f",
            "a861cf3462a54d339e61b9a3f61b823f",
            "b58e364c016b46fd9ee0030cb7257b78",
            "91e670db710049adbceb171f2d088057",
            "18ccb793ebe149418b2900214317c277",
            "dde721619fca4917977efda75eb14f99",
            "8f06592af0c7462590d466476653baa2",
            "477823ceedbf4a628d4f49a1985e5792",
            "93589f712e144994a3881a3674f8c59f",
            "2db898bd393f48459642a43f5a672c60",
            "72d190548f07421bae3f0e0657a59312",
            "64e53b5bf20440228830159b112edb18",
            "b2eb4f663d7643a1a0b381fbf0cf279c",
            "7905165a370a49b3a08ab15aff8f163e",
            "9635bcab262a4e6cbd690c54d2bfb8b4",
            "59c2ebd6056641e49ea252d215377370",
            "b5ed1b6f60be40998f1ba9f64628df71",
            "50790da1ae364a6186270f8134a8852b",
            "b442ab85034e4faba368e90dbf720b0f",
            "5520ff0a218b47adb8ca6a89172fffe9",
            "73b9897ca4c7462d88289810ae104d1c",
            "28074a420f8945bf9d1b3cc02401e856",
            "05ca06a1a6cd445c833570be8a7a6ce8",
            "db32fa406df74618a3492814ca091df0",
            "37340c97d1324e789cb7737ac421ed38",
            "aef1f87645bc44898d59092a828b5bdc",
            "6d9784fdde4446f78878183867af5396",
            "5f0a1346679f44e5937299f858c8e443",
            "37ed255046484b09932445288264d550",
            "34203ac9738947e0a38f447d0be9afda",
            "a60137523c3446bea07042fa94f76851",
            "07e3f00cf0914edabb5f85082c051a18",
            "21e4ad5f0804422c8f628aa46998c40b",
            "7e23e89f742b4d949299cc4df7b77b2a",
            "48cd4c35f0d848e1950d79d4b1276bef",
            "16d19f3181324ca4b575d92a54e984e0",
            "c062812b6d1345218cbe365a259164f6",
            "1f565b4f3a9544379e379feb4b55b33d",
            "302bbe32a9574e9eb4f8e4a71205a8c7",
            "475c3dfcdff04cb4a860e1256438c469",
            "ea185ff1937f49b0a234ff56367d01cb",
            "5295490f3c774bb6af2c3c95c2613360",
            "aebe05a6b5c84a7bbf6be0fbbaeef41e",
            "84058cbc96f74aaf9065cc02c288c6bd",
            "83a54a56f92645adae4c0175260f9950",
            "4ddc64857f0743a38012c1ef447127ab",
            "a697aa7211ff40e1abf904d517da7819",
            "192cabe5553f4439af5d2fad4e98b8ea",
            "2a3fd3466be8457b82e30d1b0a921a12",
            "a8f1526090be4a1c9899d3f1e62390a2",
            "8b654a1e615c40df9d1824e53b43c304",
            "55b78a6c0ae54031af6b4094fcff9f7d",
            "933f153a8d164cf9bb5f8181e85e8108",
            "9453d8651dad4779b868d499a9b990fb",
            "2f8ccb44000b4d058bb27c610d162be6",
            "b48b33c0be3343c88e53a24c9431e524",
            "ef10c83aa5db43be93c4fa34d8c573ad",
            "b2580b5ad4034e8eab75e10226b5df1a",
            "8977cf2a96094253881a11fab50e3029",
            "04138f17d38a4cfb8522f6f7b6407dae",
            "05f1354ed2d348aab4567b1ac192ffe8",
            "a171efb325b04e86a8a2ff63a4e984d7",
            "395affe4331e4f97bc28c5391b2a80b4",
            "ab33a538c9e14d8d91b41d3102c6170f",
            "cc91c47376fb422abe4ad43258d5a2d4",
            "c467cdf760124ba49b02d5b5f4926361",
            "54f374934f724322b903f28e1398d1b3",
            "bd90d632f2d545c4a9ef3d4d7ab47500",
            "cdfe2877dda2412e99108761c637f5b0",
            "d35c6ce2bdc94deb9d40deed83921c41",
            "7db2c7ed3bc24a5baa64c78263558ec3",
            "64a2c0bdce1f4881825c9de3612f4f61",
            "8febadf8c92a48a5b6bae3cdfa21f5f2",
            "c4a2f4c8776f42bb9390360e4b29945d",
            "d7627bf28be9465fa12aa5554f4cff8a",
            "b68d2e9791b54212b1ed86f123727583",
            "a12dc582ddd8477eb3e5cea5ff897975",
            "efbd661f919f45caaa2eff822527d6a3",
            "844762688a294337b6e50e234bfd3764",
            "cd56061f4bdc490a8834d4a1449d294f",
            "0c4df390264c4f21a646e599075d89bd",
            "104383f98c7d43d8923943e68505a347",
            "30ffc7405f5d480b90929c1cbc28d3bf",
            "7bbe1a9ea6e844e0a34356d2b453f7a2",
            "e3f5b64db6924064ac767e48a8e485de"
          ]
        },
        "id": "4xtuMjtDFloB",
        "outputId": "7c06d8ff-d394-42bf-cf23-9dfbf825cbb5"
      },
      "execution_count": null,
      "outputs": [
        {
          "output_type": "display_data",
          "data": {
            "text/plain": [
              "  0%|          | 0/4770 [00:00<?, ?it/s]"
            ],
            "application/vnd.jupyter.widget-view+json": {
              "version_major": 2,
              "version_minor": 0,
              "model_id": "814e9a4e54414d80b1e55e626cace525"
            }
          },
          "metadata": {}
        },
        {
          "output_type": "display_data",
          "data": {
            "text/plain": [
              "  0%|          | 0/597 [00:00<?, ?it/s]"
            ],
            "application/vnd.jupyter.widget-view+json": {
              "version_major": 2,
              "version_minor": 0,
              "model_id": "6a8f9e90779b4b99a5626db3fdbeb6ee"
            }
          },
          "metadata": {}
        },
        {
          "output_type": "display_data",
          "data": {
            "text/plain": [
              "  0%|          | 0/4770 [00:00<?, ?it/s]"
            ],
            "application/vnd.jupyter.widget-view+json": {
              "version_major": 2,
              "version_minor": 0,
              "model_id": "2eeecf31162346689f9c29ee376e2239"
            }
          },
          "metadata": {}
        },
        {
          "output_type": "display_data",
          "data": {
            "text/plain": [
              "  0%|          | 0/597 [00:00<?, ?it/s]"
            ],
            "application/vnd.jupyter.widget-view+json": {
              "version_major": 2,
              "version_minor": 0,
              "model_id": "6451f1f0f9974bdca98b53c08320ffd8"
            }
          },
          "metadata": {}
        },
        {
          "output_type": "display_data",
          "data": {
            "text/plain": [
              "  0%|          | 0/4770 [00:00<?, ?it/s]"
            ],
            "application/vnd.jupyter.widget-view+json": {
              "version_major": 2,
              "version_minor": 0,
              "model_id": "e693f61e0f624f81b71decae7d363a03"
            }
          },
          "metadata": {}
        },
        {
          "output_type": "display_data",
          "data": {
            "text/plain": [
              "  0%|          | 0/597 [00:00<?, ?it/s]"
            ],
            "application/vnd.jupyter.widget-view+json": {
              "version_major": 2,
              "version_minor": 0,
              "model_id": "93589f712e144994a3881a3674f8c59f"
            }
          },
          "metadata": {}
        },
        {
          "output_type": "display_data",
          "data": {
            "text/plain": [
              "  0%|          | 0/4770 [00:00<?, ?it/s]"
            ],
            "application/vnd.jupyter.widget-view+json": {
              "version_major": 2,
              "version_minor": 0,
              "model_id": "5520ff0a218b47adb8ca6a89172fffe9"
            }
          },
          "metadata": {}
        },
        {
          "output_type": "display_data",
          "data": {
            "text/plain": [
              "  0%|          | 0/597 [00:00<?, ?it/s]"
            ],
            "application/vnd.jupyter.widget-view+json": {
              "version_major": 2,
              "version_minor": 0,
              "model_id": "a60137523c3446bea07042fa94f76851"
            }
          },
          "metadata": {}
        },
        {
          "output_type": "display_data",
          "data": {
            "text/plain": [
              "  0%|          | 0/4770 [00:00<?, ?it/s]"
            ],
            "application/vnd.jupyter.widget-view+json": {
              "version_major": 2,
              "version_minor": 0,
              "model_id": "5295490f3c774bb6af2c3c95c2613360"
            }
          },
          "metadata": {}
        },
        {
          "output_type": "display_data",
          "data": {
            "text/plain": [
              "  0%|          | 0/597 [00:00<?, ?it/s]"
            ],
            "application/vnd.jupyter.widget-view+json": {
              "version_major": 2,
              "version_minor": 0,
              "model_id": "933f153a8d164cf9bb5f8181e85e8108"
            }
          },
          "metadata": {}
        },
        {
          "output_type": "display_data",
          "data": {
            "text/plain": [
              "  0%|          | 0/597 [00:00<?, ?it/s]"
            ],
            "application/vnd.jupyter.widget-view+json": {
              "version_major": 2,
              "version_minor": 0,
              "model_id": "ab33a538c9e14d8d91b41d3102c6170f"
            }
          },
          "metadata": {}
        },
        {
          "output_type": "display_data",
          "data": {
            "text/plain": [
              "  0%|          | 0/602 [00:00<?, ?it/s]"
            ],
            "application/vnd.jupyter.widget-view+json": {
              "version_major": 2,
              "version_minor": 0,
              "model_id": "d7627bf28be9465fa12aa5554f4cff8a"
            }
          },
          "metadata": {}
        },
        {
          "output_type": "execute_result",
          "data": {
            "text/plain": [
              "{'correct': 225739,\n",
              " 'total': 228367,\n",
              " 'sent_correct': 8225,\n",
              " 'sent_total': 9618,\n",
              " 'loss': 0.04751567183312212,\n",
              " 'n_batches': 602,\n",
              " 'accuracy': 0.9884922077182781,\n",
              " 'sent_accuracy': 0.8551673944687045}"
            ]
          },
          "metadata": {},
          "execution_count": 22
        }
      ]
    },
    {
      "cell_type": "code",
      "source": [
        "! pip install evaluate\n",
        "import evaluate\n",
        "\n",
        "metric = evaluate.load('seqeval', trust_remote_code=True)\n",
        "corr_labels = [[elem['label'] for elem in sent] for sent in test_dataset]\n",
        "predictions = predict_with_model(model, X_test, batch_collate_fn=collate_fn)\n",
        "results = metric.compute(references=corr_labels, predictions=predictions)\n",
        "for key, value in results.items():\n",
        "    print(key, value)"
      ],
      "metadata": {
        "id": "1ykE0Ga5GOUt",
        "colab": {
          "base_uri": "https://localhost:8080/",
          "height": 931,
          "referenced_widgets": [
            "4af0d3b1025c4ad0b25523ce64558f0a",
            "f94c15732a004093b85a24565a193dae",
            "aea0a483ac964621841480416b8ba0f2",
            "b485b0d3e8c5416bb9e1ca65398b8296",
            "3c47ce3babfe4a6488e59954d65d5e70",
            "647ae12c910e401d827b196d759ec436",
            "629dd06e24c44e628071f089182d296a",
            "543c1df65c4d49aaa0533c85d8886c40",
            "ae5a42150b824a49a2c24d892d752d7d",
            "e68c48221afd48a9b34cc4045ca2c591",
            "629d0b8c5d214952bd99bfd3782c01b2"
          ]
        },
        "outputId": "0eeba6e8-9c42-4441-afb0-1af8b44459fb"
      },
      "execution_count": null,
      "outputs": [
        {
          "output_type": "stream",
          "name": "stdout",
          "text": [
            "Requirement already satisfied: evaluate in /usr/local/lib/python3.11/dist-packages (0.4.3)\n",
            "Requirement already satisfied: datasets>=2.0.0 in /usr/local/lib/python3.11/dist-packages (from evaluate) (3.3.1)\n",
            "Requirement already satisfied: numpy>=1.17 in /usr/local/lib/python3.11/dist-packages (from evaluate) (1.26.4)\n",
            "Requirement already satisfied: dill in /usr/local/lib/python3.11/dist-packages (from evaluate) (0.3.8)\n",
            "Requirement already satisfied: pandas in /usr/local/lib/python3.11/dist-packages (from evaluate) (2.2.2)\n",
            "Requirement already satisfied: requests>=2.19.0 in /usr/local/lib/python3.11/dist-packages (from evaluate) (2.32.3)\n",
            "Requirement already satisfied: tqdm>=4.62.1 in /usr/local/lib/python3.11/dist-packages (from evaluate) (4.67.1)\n",
            "Requirement already satisfied: xxhash in /usr/local/lib/python3.11/dist-packages (from evaluate) (3.5.0)\n",
            "Requirement already satisfied: multiprocess in /usr/local/lib/python3.11/dist-packages (from evaluate) (0.70.16)\n",
            "Requirement already satisfied: fsspec>=2021.05.0 in /usr/local/lib/python3.11/dist-packages (from fsspec[http]>=2021.05.0->evaluate) (2024.10.0)\n",
            "Requirement already satisfied: huggingface-hub>=0.7.0 in /usr/local/lib/python3.11/dist-packages (from evaluate) (0.28.1)\n",
            "Requirement already satisfied: packaging in /usr/local/lib/python3.11/dist-packages (from evaluate) (24.2)\n",
            "Requirement already satisfied: filelock in /usr/local/lib/python3.11/dist-packages (from datasets>=2.0.0->evaluate) (3.17.0)\n",
            "Requirement already satisfied: pyarrow>=15.0.0 in /usr/local/lib/python3.11/dist-packages (from datasets>=2.0.0->evaluate) (17.0.0)\n",
            "Requirement already satisfied: aiohttp in /usr/local/lib/python3.11/dist-packages (from datasets>=2.0.0->evaluate) (3.11.12)\n",
            "Requirement already satisfied: pyyaml>=5.1 in /usr/local/lib/python3.11/dist-packages (from datasets>=2.0.0->evaluate) (6.0.2)\n",
            "Requirement already satisfied: typing-extensions>=3.7.4.3 in /usr/local/lib/python3.11/dist-packages (from huggingface-hub>=0.7.0->evaluate) (4.12.2)\n",
            "Requirement already satisfied: charset-normalizer<4,>=2 in /usr/local/lib/python3.11/dist-packages (from requests>=2.19.0->evaluate) (3.4.1)\n",
            "Requirement already satisfied: idna<4,>=2.5 in /usr/local/lib/python3.11/dist-packages (from requests>=2.19.0->evaluate) (3.10)\n",
            "Requirement already satisfied: urllib3<3,>=1.21.1 in /usr/local/lib/python3.11/dist-packages (from requests>=2.19.0->evaluate) (2.3.0)\n",
            "Requirement already satisfied: certifi>=2017.4.17 in /usr/local/lib/python3.11/dist-packages (from requests>=2.19.0->evaluate) (2025.1.31)\n",
            "Requirement already satisfied: python-dateutil>=2.8.2 in /usr/local/lib/python3.11/dist-packages (from pandas->evaluate) (2.8.2)\n",
            "Requirement already satisfied: pytz>=2020.1 in /usr/local/lib/python3.11/dist-packages (from pandas->evaluate) (2025.1)\n",
            "Requirement already satisfied: tzdata>=2022.7 in /usr/local/lib/python3.11/dist-packages (from pandas->evaluate) (2025.1)\n",
            "Requirement already satisfied: aiohappyeyeballs>=2.3.0 in /usr/local/lib/python3.11/dist-packages (from aiohttp->datasets>=2.0.0->evaluate) (2.4.6)\n",
            "Requirement already satisfied: aiosignal>=1.1.2 in /usr/local/lib/python3.11/dist-packages (from aiohttp->datasets>=2.0.0->evaluate) (1.3.2)\n",
            "Requirement already satisfied: attrs>=17.3.0 in /usr/local/lib/python3.11/dist-packages (from aiohttp->datasets>=2.0.0->evaluate) (25.1.0)\n",
            "Requirement already satisfied: frozenlist>=1.1.1 in /usr/local/lib/python3.11/dist-packages (from aiohttp->datasets>=2.0.0->evaluate) (1.5.0)\n",
            "Requirement already satisfied: multidict<7.0,>=4.5 in /usr/local/lib/python3.11/dist-packages (from aiohttp->datasets>=2.0.0->evaluate) (6.1.0)\n",
            "Requirement already satisfied: propcache>=0.2.0 in /usr/local/lib/python3.11/dist-packages (from aiohttp->datasets>=2.0.0->evaluate) (0.2.1)\n",
            "Requirement already satisfied: yarl<2.0,>=1.17.0 in /usr/local/lib/python3.11/dist-packages (from aiohttp->datasets>=2.0.0->evaluate) (1.18.3)\n",
            "Requirement already satisfied: six>=1.5 in /usr/local/lib/python3.11/dist-packages (from python-dateutil>=2.8.2->pandas->evaluate) (1.17.0)\n"
          ]
        },
        {
          "output_type": "display_data",
          "data": {
            "text/plain": [
              "Downloading builder script:   0%|          | 0.00/6.34k [00:00<?, ?B/s]"
            ],
            "application/vnd.jupyter.widget-view+json": {
              "version_major": 2,
              "version_minor": 0,
              "model_id": "4af0d3b1025c4ad0b25523ce64558f0a"
            }
          },
          "metadata": {}
        },
        {
          "output_type": "stream",
          "name": "stderr",
          "text": [
            "/usr/local/lib/python3.11/dist-packages/seqeval/metrics/sequence_labeling.py:171: UserWarning: <BEGIN> seems not to be NE tag.\n",
            "  warnings.warn('{} seems not to be NE tag.'.format(chunk))\n",
            "/usr/local/lib/python3.11/dist-packages/seqeval/metrics/sequence_labeling.py:171: UserWarning: <PAD> seems not to be NE tag.\n",
            "  warnings.warn('{} seems not to be NE tag.'.format(chunk))\n",
            "/usr/local/lib/python3.11/dist-packages/seqeval/metrics/v1.py:57: UndefinedMetricWarning: Recall and F-score are ill-defined and being set to 0.0 in labels with no true samples. Use `zero_division` parameter to control this behavior.\n",
            "  _warn_prf(average, modifier, msg_start, len(result))\n"
          ]
        },
        {
          "output_type": "stream",
          "name": "stdout",
          "text": [
            "BEGIN> {'precision': 0.0, 'recall': 0.0, 'f1': 0.0, 'number': 0}\n",
            "LOC {'precision': 0.05193681021423934, 'recall': 0.038980022738346595, 'f1': 0.04453516422341808, 'number': 6157}\n",
            "MISC {'precision': 0.04805914972273567, 'recall': 0.01845935392261271, 'f1': 0.02667350602718646, 'number': 2817}\n",
            "ORG {'precision': 0.001851851851851852, 'recall': 0.0008932559178204555, 'f1': 0.0012051822838204278, 'number': 2239}\n",
            "PAD> {'precision': 0.0, 'recall': 0.0, 'f1': 0.0, 'number': 0}\n",
            "PER {'precision': 0.04180904522613065, 'recall': 0.04967757344160497, 'f1': 0.045404933420650516, 'number': 4187}\n",
            "overall_precision 0.040568934863423306\n",
            "overall_recall 0.0325974025974026\n",
            "overall_f1 0.03614891625261035\n",
            "overall_accuracy 0.8331632854133916\n"
          ]
        }
      ]
    },
    {
      "cell_type": "markdown",
      "source": [
        "RNN в данном случае не показала хорошие метрики. Посмотрим, как справится посимвольная сеть."
      ],
      "metadata": {
        "id": "evFZqs2L__ZO"
      }
    },
    {
      "cell_type": "markdown",
      "source": [
        "# Посимвольная сеть"
      ],
      "metadata": {
        "id": "sk1Ct-cYHPTL"
      }
    },
    {
      "cell_type": "code",
      "source": [
        "NEPOCHS = 5\n",
        "model2 = MultilayerConvTagger(\n",
        "            vocab_size=len(vocabs[\"word\"].symbols_),\n",
        "            labels_number=len(vocabs[\"label\"].symbols_),\n",
        "            embeddings_dim=200, n_hidden=200,\n",
        "            n_layers=1, dropout=0.1, device=\"cuda\",\n",
        "            use_batch_norm=True\n",
        ")\n",
        "best_val_acc = 0.0\n",
        "checkpoint = \"checkpoint_best_2.pt\"\n",
        "for epoch in range(NEPOCHS):\n",
        "    do_epoch(model2, train_dataloader, mode=\"train\", epoch=epoch+1)\n",
        "    epoch_metrics = do_epoch(model, dev_dataloader, mode=\"validate\", epoch=epoch+1)\n",
        "    if epoch_metrics[\"accuracy\"] > best_val_acc:\n",
        "        best_val_acc = epoch_metrics[\"accuracy\"]\n",
        "        torch.save(model.state_dict(), checkpoint)\n",
        "\n",
        "model.load_state_dict(torch.load(checkpoint))\n",
        "do_epoch(model2, dev_dataloader, mode=\"validate\", epoch=\"evaluate\")\n",
        "do_epoch(model2, test_dataloader, mode=\"validate\", epoch=\"evaluate\")"
      ],
      "metadata": {
        "colab": {
          "base_uri": "https://localhost:8080/",
          "height": 601,
          "referenced_widgets": [
            "95bdf0c6ba7446d5adcd24253067f256",
            "2c006da3cc15424a9b2709e94e796c96",
            "21721bf0edbe4f33853f2009d12f2b47",
            "2d8bc8336a164c8a8ccbe01862f10ad3",
            "da3f9115b5354a8bbf8e76d02ab093ca",
            "501ee1be7971457b9eca00b03e3b577a",
            "8f64de6f7fc5444baf956c0f116039b8",
            "8408c89f51bb4d6c99821be6dec16503",
            "fef0aeb20ee144dea3c9438a872d7d48",
            "1db84dbda2b64beba5181e7e57cb1c0a",
            "9192861b9220489d9e8051ad80ce6bc8",
            "144ae9e97e1349adb3cf4e12e8c9b335",
            "5bba2e7b9c5f44a587457d82b7cda92e",
            "e0f070b04738428194bbb8df9faf3bb8",
            "664f957d456440a1a874f6b22d530540",
            "f25d6aebd4ce4c949aa05d617bb6f946",
            "5d04b36372a44ea3afd9bd483689f196",
            "2ecfabef6080456cb5f985c959054c71",
            "ed4620395160459181b3a677db820802",
            "17904255e5844c4da5aa1e2a325bb0ee",
            "f6c6920125674ccc8404501f9c5243b0",
            "c469bb1b09324f14b8a428afeb7f2f61",
            "5ff7dc9b3dc444628e399aba56c75099",
            "d0e36a70527f4f8f80e5949715fa9dfe",
            "043b27104ebd41fc8930bbc99f48d5f2",
            "211b3f37c23144018c07629e76860aac",
            "81c2db8041d94c7e931b83be582e6c5c",
            "89b2944cb6424dbeae12c9d788452edf",
            "2ee9213cfa22464c8fee797f9e037908",
            "68476323fe4141d3a3df70af9c8697b3",
            "d5bc38cbf6374767b69744b6c4ecd2b3",
            "ec4baacf542b4ca7948670e7602d3de0",
            "0193b1e645cd45c59cea601451f768ca",
            "2bad0710d02c4d88b3c3df71b28d5258",
            "ada658b0792445c183de5fabed284d32",
            "89447b7862f94339b005c6560c038ef1",
            "529cfef168334fb2932f6de0f24eff3e",
            "082e304cea134677819caeee0920b8fa",
            "954e9dac088c47a3998388e885beb398",
            "2a03280cf4ef4b2fb4c5180a62133a6d",
            "95cef0e1c4cc45b28c4599e93ca6124e",
            "8481457a960a4a72b2a5da9829dbca12",
            "403c06238bde45df81861d2fb69ecd0f",
            "1b77abaa452b40218a09aeeca9368c44",
            "17b495f08f804c4c9042d970cd2ecd68",
            "b20ce395cc5e4f36b07d6058cee609d1",
            "4625a8fdac1a4874843ae6c12c0b31de",
            "a71233158b474d87aba8113c2f9af31d",
            "b1a4425c89644b41a0c9e5c60172b31b",
            "029cffca41a2420b89496dbe7d6fab7c",
            "baaa09c70ac8489b9d9e75451503fb0e",
            "965db38159634ef0bb46f239cb7561ac",
            "516493a377c8496da7ca94e1b90582b7",
            "3e377c7bf5884d2195ace0ac509c2118",
            "8bd56acb25fc4b08918c862dd1aa1712",
            "1b4e2dcb631145c68937f544d793a59f",
            "cbfb20bb0b874ce0af6b7f6d054d2244",
            "8b36b771a95442cf8e19fa3f585844ee",
            "0104cf38f5de41129945367d858b5475",
            "b8b8f3d4c5b247e2893bb7efcc345965",
            "093216b433fc4662a03274205b799ac0",
            "b199c2c26697447b8c92d9db79fcabce",
            "1469cb165d9e46b0b4ea2c5410d19f01",
            "3e3baffbca7046cba06ecd5009415f6e",
            "9b9d9e163fab43e2817508066a659002",
            "9eafd892b63b49149fbf79612c83c2b4",
            "ab04d7f0d6a5442ca1f37afae74ee13a",
            "2b55ed28db3e4f6abeba06d1d3e0a2cd",
            "1b9ef3ceb3db4352b19265be52ffda65",
            "ad3b415085c34617beba7ba3f2310abc",
            "5c2e5c2d47b7425895d24cb67c6485ea",
            "b3559c4634aa495889fe810d796747fb",
            "02d8a089b3834ebc93e6e96836435b3f",
            "53536045f6674effa897538400c6cce3",
            "408b644a9a9142b9bd410d8340d9d5d4",
            "d813cff88a8941028c48424752e622fd",
            "83faed7666764194a2723e6505e27f89",
            "bf306489691e4854bd2c6b887a2a422b",
            "843d79e44ed245c0995390c664203ac4",
            "1bc1ba9babab4899b6aba971accca270",
            "effc8117d1bc4f82ad7821dda20ef7be",
            "a3e199791f064feb870f4c4a3634f779",
            "be4faae2a1554596afe757d13206317a",
            "9f57da68dd874c86b3001668037a8807",
            "d5a1f978f3d0480f9a8a1e1ee9946984",
            "37b29f924f574d969ad820c16f1abcf2",
            "22920fac5a6a461bbb17ca4bec132ff7",
            "b31978fada6b4ac7bb070ed380f72c03",
            "a214b8d658444f209c28386c336b4c64",
            "e6499d8f42494afd9515674c35118510",
            "080ddface22e41bc942cf9e3ed0e3ed1",
            "87933b586b1d4a9fafb05976ade32304",
            "7186b5af6c7d4680b5ccfda94a919fdd",
            "9e37a378d8a74f10b838e6cc39cebbab",
            "9c4ed2d3597e48f9a24b360dc6731a28",
            "8faec01bdba445cca396825dd34350a2",
            "0629e1073ad64ed9bceb4d1e2ade7389",
            "36678a28996d458c8354917ecbf20ee2",
            "1bfa9feb042c46b0a404f84582661299",
            "bd547d2671a8409992484bac7c85b586",
            "f4099fbba4574a47a5cfe95fe2d5a9e2",
            "6c2fbf60bc3442b3bff5a0de1f7a317b",
            "e4c2f96630f541d1b8f50fd17b1e5f10",
            "988da52cd5c844bfba828b0ee4eee075",
            "8b559bff0eb9471490ee93c286aea887",
            "b452c42cd7564addbdacb13ae3a81dbb",
            "1ec5287cf324477ba6bc27f472f7900f",
            "d89a1bd417164ac9811a4cf2d7b02b1b",
            "28e9843f88304df8b89bb76eea5dd06b",
            "4b13fb98dff446c5bbf6c002acfaa878",
            "cf7352c1a8374a00ad54ea9f5274d75e",
            "d68f0ebf117045b09028034b79ea6720",
            "2203cb9b32a140e18f1c0147bbde2d6a",
            "b8135c704ea844c79611ef2d623f6f78",
            "509a0cc277ec4395befc9ba874655ed8",
            "65048cded01940d781d555bc5d74aac0",
            "ba587459c78647069520ba6ecfff67ea",
            "279a29c94bae44588df6bc8b0f85046f",
            "1b299c8f3c9b470daeea3dd306580750",
            "bdffcce6d7bf4a0db8ed849022fd2c19",
            "44c0f10536ef4e6bba0bd9b0ec9defa5",
            "80faf99faf7e4313b3065e50b4b8cc61",
            "ec18a10ae11740458115c2da14b305e5",
            "61714c9ccc2040ca8948dc8db75bc732",
            "13285849ea5f4416bb0a906565691c10",
            "9d0edd50015340f5be45e1c01a031e4d",
            "1bddc016f8844297b773d4eb6d9086d7",
            "9b65964b2ab34939988bec3e08f9ddaf",
            "588be432c7a149b5b68b6e43fded6251",
            "2bc76cfaf1064fd6bb6a93b00c49d081",
            "6ee561d497684d8aaed1f50ad8234b4c",
            "5fa2ac05812f44dd9069597d40f82b2f"
          ]
        },
        "id": "0kmIY48hHTby",
        "outputId": "156ed916-7994-41c2-9ba3-418e52709351"
      },
      "execution_count": null,
      "outputs": [
        {
          "output_type": "display_data",
          "data": {
            "text/plain": [
              "  0%|          | 0/4770 [00:00<?, ?it/s]"
            ],
            "application/vnd.jupyter.widget-view+json": {
              "version_major": 2,
              "version_minor": 0,
              "model_id": "95bdf0c6ba7446d5adcd24253067f256"
            }
          },
          "metadata": {}
        },
        {
          "output_type": "display_data",
          "data": {
            "text/plain": [
              "  0%|          | 0/597 [00:00<?, ?it/s]"
            ],
            "application/vnd.jupyter.widget-view+json": {
              "version_major": 2,
              "version_minor": 0,
              "model_id": "144ae9e97e1349adb3cf4e12e8c9b335"
            }
          },
          "metadata": {}
        },
        {
          "output_type": "display_data",
          "data": {
            "text/plain": [
              "  0%|          | 0/4770 [00:00<?, ?it/s]"
            ],
            "application/vnd.jupyter.widget-view+json": {
              "version_major": 2,
              "version_minor": 0,
              "model_id": "5ff7dc9b3dc444628e399aba56c75099"
            }
          },
          "metadata": {}
        },
        {
          "output_type": "display_data",
          "data": {
            "text/plain": [
              "  0%|          | 0/597 [00:00<?, ?it/s]"
            ],
            "application/vnd.jupyter.widget-view+json": {
              "version_major": 2,
              "version_minor": 0,
              "model_id": "2bad0710d02c4d88b3c3df71b28d5258"
            }
          },
          "metadata": {}
        },
        {
          "output_type": "display_data",
          "data": {
            "text/plain": [
              "  0%|          | 0/4770 [00:00<?, ?it/s]"
            ],
            "application/vnd.jupyter.widget-view+json": {
              "version_major": 2,
              "version_minor": 0,
              "model_id": "17b495f08f804c4c9042d970cd2ecd68"
            }
          },
          "metadata": {}
        },
        {
          "output_type": "display_data",
          "data": {
            "text/plain": [
              "  0%|          | 0/597 [00:00<?, ?it/s]"
            ],
            "application/vnd.jupyter.widget-view+json": {
              "version_major": 2,
              "version_minor": 0,
              "model_id": "1b4e2dcb631145c68937f544d793a59f"
            }
          },
          "metadata": {}
        },
        {
          "output_type": "display_data",
          "data": {
            "text/plain": [
              "  0%|          | 0/4770 [00:00<?, ?it/s]"
            ],
            "application/vnd.jupyter.widget-view+json": {
              "version_major": 2,
              "version_minor": 0,
              "model_id": "ab04d7f0d6a5442ca1f37afae74ee13a"
            }
          },
          "metadata": {}
        },
        {
          "output_type": "display_data",
          "data": {
            "text/plain": [
              "  0%|          | 0/597 [00:00<?, ?it/s]"
            ],
            "application/vnd.jupyter.widget-view+json": {
              "version_major": 2,
              "version_minor": 0,
              "model_id": "bf306489691e4854bd2c6b887a2a422b"
            }
          },
          "metadata": {}
        },
        {
          "output_type": "display_data",
          "data": {
            "text/plain": [
              "  0%|          | 0/4770 [00:00<?, ?it/s]"
            ],
            "application/vnd.jupyter.widget-view+json": {
              "version_major": 2,
              "version_minor": 0,
              "model_id": "a214b8d658444f209c28386c336b4c64"
            }
          },
          "metadata": {}
        },
        {
          "output_type": "display_data",
          "data": {
            "text/plain": [
              "  0%|          | 0/597 [00:00<?, ?it/s]"
            ],
            "application/vnd.jupyter.widget-view+json": {
              "version_major": 2,
              "version_minor": 0,
              "model_id": "bd547d2671a8409992484bac7c85b586"
            }
          },
          "metadata": {}
        },
        {
          "output_type": "stream",
          "name": "stderr",
          "text": [
            "<ipython-input-36-1228e17bc61d>:18: FutureWarning: You are using `torch.load` with `weights_only=False` (the current default value), which uses the default pickle module implicitly. It is possible to construct malicious pickle data which will execute arbitrary code during unpickling (See https://github.com/pytorch/pytorch/blob/main/SECURITY.md#untrusted-models for more details). In a future release, the default value for `weights_only` will be flipped to `True`. This limits the functions that could be executed during unpickling. Arbitrary objects will no longer be allowed to be loaded via this mode unless they are explicitly allowlisted by the user via `torch.serialization.add_safe_globals`. We recommend you start setting `weights_only=True` for any use case where you don't have full control of the loaded file. Please open an issue on GitHub for any issues related to this experimental feature.\n",
            "  model.load_state_dict(torch.load(checkpoint))\n"
          ]
        },
        {
          "output_type": "display_data",
          "data": {
            "text/plain": [
              "  0%|          | 0/597 [00:00<?, ?it/s]"
            ],
            "application/vnd.jupyter.widget-view+json": {
              "version_major": 2,
              "version_minor": 0,
              "model_id": "cf7352c1a8374a00ad54ea9f5274d75e"
            }
          },
          "metadata": {}
        },
        {
          "output_type": "display_data",
          "data": {
            "text/plain": [
              "  0%|          | 0/602 [00:00<?, ?it/s]"
            ],
            "application/vnd.jupyter.widget-view+json": {
              "version_major": 2,
              "version_minor": 0,
              "model_id": "80faf99faf7e4313b3065e50b4b8cc61"
            }
          },
          "metadata": {}
        },
        {
          "output_type": "execute_result",
          "data": {
            "text/plain": [
              "{'correct': 224851,\n",
              " 'total': 228367,\n",
              " 'sent_correct': 7624,\n",
              " 'sent_total': 9618,\n",
              " 'loss': 0.05585339916750103,\n",
              " 'n_batches': 602,\n",
              " 'accuracy': 0.9846037299609839,\n",
              " 'sent_accuracy': 0.792680390933666}"
            ]
          },
          "metadata": {},
          "execution_count": 36
        }
      ]
    },
    {
      "cell_type": "code",
      "source": [
        "metric = evaluate.load('seqeval', trust_remote_code=True)\n",
        "corr_labels = [[elem['label'] for elem in sent] for sent in test_dataset]\n",
        "predictions = predict_with_model(model2, X_test, batch_collate_fn=collate_fn)\n",
        "results = metric.compute(references=corr_labels, predictions=predictions)\n",
        "for key, value in results.items():\n",
        "    print(key, value)"
      ],
      "metadata": {
        "id": "eMqRF-vPHpCO",
        "colab": {
          "base_uri": "https://localhost:8080/"
        },
        "outputId": "766d16cf-8d20-4726-85da-e5d5d9708ce2"
      },
      "execution_count": null,
      "outputs": [
        {
          "output_type": "stream",
          "name": "stdout",
          "text": [
            "LOC {'precision': 0.8961262105592003, 'recall': 0.9317849602078935, 'f1': 0.9136077713193725, 'number': 6157}\n",
            "MISC {'precision': 0.7457264957264957, 'recall': 0.7433439829605963, 'f1': 0.7445333333333333, 'number': 2817}\n",
            "ORG {'precision': 0.8165898617511521, 'recall': 0.7914247431889236, 'f1': 0.8038103878430484, 'number': 2239}\n",
            "PER {'precision': 0.8939808481532148, 'recall': 0.9364700262717937, 'f1': 0.9147322990785024, 'number': 4187}\n",
            "overall_precision 0.8577952556133451\n",
            "overall_recall 0.8781818181818182\n",
            "overall_f1 0.8678688314188538\n",
            "overall_accuracy 0.9846037299609839\n"
          ]
        }
      ]
    },
    {
      "cell_type": "markdown",
      "source": [
        "Модель с посимвольной обработкой показала лучшие метрики. Посмотрим теперь, как она работает непосредственно на наших примерах."
      ],
      "metadata": {
        "id": "CJlCzIFZ_h-R"
      }
    },
    {
      "cell_type": "markdown",
      "source": [
        "# Тестирование"
      ],
      "metadata": {
        "id": "HeUQeqMuIVDR"
      }
    },
    {
      "cell_type": "markdown",
      "source": [
        "Здесь используется стандартная разметка BIO и теги такие: 'O': 0, 'B-PER': 1, 'I-PER': 2, 'B-ORG': 3, 'I-ORG': 4, 'B-LOC': 5, 'I-LOC': 6, 'B-MISC': 7, 'I-MISC': 8\n"
      ],
      "metadata": {
        "id": "uMA92MqeByTj"
      }
    },
    {
      "cell_type": "code",
      "source": [
        "words = \"El presidente de México visitó España la semana pasada.\".split()\n",
        "\n",
        "sent = [{\"word\": word, \"tag\": \"\", \"label\": \"\"} for word in words]\n",
        "X_sent = SequenceDataset([sent], fields={\"word\": \"input_ids\", \"tag\": \"tags\", \"label\": \"labels\"}, vocabs=X_train.vocabs, add_begin=X_train.add_begin)\n",
        "y_sent_pred1 = predict_with_model(model1, X_sent)\n",
        "y_sent_pred2 = predict_with_model(model2, X_sent)\n",
        "for word, label1, label2 in zip(words, y_sent_pred1[0], y_sent_pred2[0]):\n",
        "    print(word, label1, label2)"
      ],
      "metadata": {
        "id": "QkRxG0svIYK-",
        "colab": {
          "base_uri": "https://localhost:8080/"
        },
        "outputId": "8d4a3cc1-e86e-4a6d-eb08-4f0b48020c78"
      },
      "execution_count": null,
      "outputs": [
        {
          "output_type": "stream",
          "name": "stdout",
          "text": [
            "El O O\n",
            "presidente O O\n",
            "de O O\n",
            "México B-LOC B-LOC\n",
            "visitó O O\n",
            "España B-LOC B-LOC\n",
            "la O O\n",
            "semana O O\n",
            "pasada. O O\n"
          ]
        }
      ]
    },
    {
      "cell_type": "markdown",
      "source": [
        "Здесь все хорошо."
      ],
      "metadata": {
        "id": "jd-TysqgAR6j"
      }
    },
    {
      "cell_type": "code",
      "source": [
        "words = \"Messi firmó un contrato millonario con el Inter de Miami.\".split()\n",
        "\n",
        "sent = [{\"word\": word, \"tag\": \"\", \"label\": \"\"} for word in words]\n",
        "X_sent = SequenceDataset([sent], fields={\"word\": \"input_ids\", \"tag\": \"tags\", \"label\": \"labels\"}, vocabs=X_train.vocabs, add_begin=X_train.add_begin)\n",
        "y_sent_pred1 = predict_with_model(model1, X_sent)\n",
        "y_sent_pred2 = predict_with_model(model2, X_sent)\n",
        "for word, label1, label2 in zip(words, y_sent_pred1[0], y_sent_pred2[0]):\n",
        "    print(word, label1, label2)"
      ],
      "metadata": {
        "colab": {
          "base_uri": "https://localhost:8080/"
        },
        "id": "lEa9k6WHJa7n",
        "outputId": "e67bfe24-cf22-4990-ce59-74d815a501d4"
      },
      "execution_count": null,
      "outputs": [
        {
          "output_type": "stream",
          "name": "stdout",
          "text": [
            "Messi O B-LOC\n",
            "firmó O O\n",
            "un O O\n",
            "contrato O O\n",
            "millonario O O\n",
            "con O O\n",
            "el O O\n",
            "Inter B-ORG B-ORG\n",
            "de I-ORG I-ORG\n",
            "Miami. I-ORG I-ORG\n"
          ]
        }
      ]
    },
    {
      "cell_type": "markdown",
      "source": [
        "Здесь Месси для второй модели почему-то стал местом, а первая его вообще не определила. Организация же была определена корректно."
      ],
      "metadata": {
        "id": "Lhjy0z_bCDeu"
      }
    },
    {
      "cell_type": "code",
      "source": [
        "words = \"Barcelona es una de las ciudades más turísticas de Europa.\".split()\n",
        "\n",
        "sent = [{\"word\": word, \"tag\": \"\", \"label\": \"\"} for word in words]\n",
        "X_sent = SequenceDataset([sent], fields={\"word\": \"input_ids\", \"tag\": \"tags\", \"label\": \"labels\"}, vocabs=X_train.vocabs, add_begin=X_train.add_begin)\n",
        "y_sent_pred1 = predict_with_model(model1, X_sent)\n",
        "y_sent_pred2 = predict_with_model(model2, X_sent)\n",
        "for word, label1, label2 in zip(words, y_sent_pred1[0], y_sent_pred2[0]):\n",
        "    print(word, label1, label2)"
      ],
      "metadata": {
        "colab": {
          "base_uri": "https://localhost:8080/"
        },
        "id": "jevi3-sAJjfF",
        "outputId": "66308ff8-4a23-4393-e909-f697ad5ce578"
      },
      "execution_count": null,
      "outputs": [
        {
          "output_type": "stream",
          "name": "stdout",
          "text": [
            "Barcelona B-LOC B-LOC\n",
            "es O O\n",
            "una O O\n",
            "de O O\n",
            "las O O\n",
            "ciudades O O\n",
            "más O O\n",
            "turísticas O O\n",
            "de O O\n",
            "Europa. B-LOC B-PER\n"
          ]
        }
      ]
    },
    {
      "cell_type": "markdown",
      "source": [
        "С первой именованной сущностью все хорошо у обеих моделей. Со второй справилась только первая."
      ],
      "metadata": {
        "id": "eB_obNPbGlzM"
      }
    },
    {
      "cell_type": "code",
      "source": [
        "words = \"Gabriel García Márquez ganó el Premio Nobel de Literatura en 1982.\".split()\n",
        "\n",
        "sent = [{\"word\": word, \"tag\": \"\", \"label\": \"\"} for word in words]\n",
        "X_sent = SequenceDataset([sent], fields={\"word\": \"input_ids\", \"tag\": \"tags\", \"label\": \"labels\"}, vocabs=X_train.vocabs, add_begin=X_train.add_begin)\n",
        "y_sent_pred1 = predict_with_model(model1, X_sent)\n",
        "y_sent_pred2 = predict_with_model(model2, X_sent)\n",
        "for word, label1, label2 in zip(words, y_sent_pred1[0], y_sent_pred2[0]):\n",
        "    print(word, label1, label2)"
      ],
      "metadata": {
        "colab": {
          "base_uri": "https://localhost:8080/"
        },
        "id": "ZieCzY1zJkXO",
        "outputId": "02899af9-5238-4dcd-8881-ab3224bc30ad"
      },
      "execution_count": null,
      "outputs": [
        {
          "output_type": "stream",
          "name": "stdout",
          "text": [
            "Gabriel B-PER B-PER\n",
            "García I-PER I-PER\n",
            "Márquez I-PER I-PER\n",
            "ganó O O\n",
            "el O O\n",
            "Premio B-MISC B-MISC\n",
            "Nobel I-MISC I-MISC\n",
            "de I-MISC I-MISC\n",
            "Literatura I-MISC O\n",
            "en O O\n",
            "1982. O B-LOC\n"
          ]
        }
      ]
    },
    {
      "cell_type": "markdown",
      "source": [
        "Опять отработала лучше первая модель. У второй вообще почему-то тег места для года."
      ],
      "metadata": {
        "id": "gjF3xJvvLQqI"
      }
    },
    {
      "cell_type": "code",
      "source": [
        "words = \"El río Amazonas es el más caudaloso del mundo.\".split()\n",
        "\n",
        "sent = [{\"word\": word, \"tag\": \"\", \"label\": \"\"} for word in words]\n",
        "X_sent = SequenceDataset([sent], fields={\"word\": \"input_ids\", \"tag\": \"tags\", \"label\": \"labels\"}, vocabs=X_train.vocabs, add_begin=X_train.add_begin)\n",
        "y_sent_pred1 = predict_with_model(model1, X_sent)\n",
        "y_sent_pred2 = predict_with_model(model2, X_sent)\n",
        "for word, label1, label2 in zip(words, y_sent_pred1[0], y_sent_pred2[0]):\n",
        "    print(word, label1, label2)"
      ],
      "metadata": {
        "colab": {
          "base_uri": "https://localhost:8080/"
        },
        "id": "TWFC5w9tJlXL",
        "outputId": "8d426ad0-b106-4c25-98e4-5ac271d310bd"
      },
      "execution_count": null,
      "outputs": [
        {
          "output_type": "stream",
          "name": "stdout",
          "text": [
            "El O O\n",
            "río B-LOC B-LOC\n",
            "Amazonas I-LOC I-LOC\n",
            "es O O\n",
            "el O O\n",
            "más O O\n",
            "caudaloso O O\n",
            "del O O\n",
            "mundo. O O\n"
          ]
        }
      ]
    },
    {
      "cell_type": "markdown",
      "source": [
        "Все правильно."
      ],
      "metadata": {
        "id": "N0UD2Ys6Ld4i"
      }
    },
    {
      "cell_type": "code",
      "source": [
        "words = \"Microsoft fue fundada por Bill Gates y Paul Allen en 1975.\".split()\n",
        "\n",
        "sent = [{\"word\": word, \"tag\": \"\", \"label\": \"\"} for word in words]\n",
        "X_sent = SequenceDataset([sent], fields={\"word\": \"input_ids\", \"tag\": \"tags\", \"label\": \"labels\"}, vocabs=X_train.vocabs, add_begin=X_train.add_begin)\n",
        "y_sent_pred1 = predict_with_model(model1, X_sent)\n",
        "y_sent_pred2 = predict_with_model(model2, X_sent)\n",
        "for word, label1, label2 in zip(words, y_sent_pred1[0], y_sent_pred2[0]):\n",
        "    print(word, label1, label2)"
      ],
      "metadata": {
        "colab": {
          "base_uri": "https://localhost:8080/"
        },
        "id": "WS_YfzInJloR",
        "outputId": "982a5090-81b8-4a7a-9d34-24a7449f880f"
      },
      "execution_count": null,
      "outputs": [
        {
          "output_type": "stream",
          "name": "stdout",
          "text": [
            "Microsoft B-ORG B-ORG\n",
            "fue O O\n",
            "fundada O O\n",
            "por O O\n",
            "Bill B-PER B-PER\n",
            "Gates I-PER I-PER\n",
            "y O O\n",
            "Paul B-PER B-PER\n",
            "Allen I-PER I-PER\n",
            "en O O\n",
            "1975. B-ORG B-LOC\n"
          ]
        }
      ]
    },
    {
      "cell_type": "markdown",
      "source": [
        "Было бы все правильно, если бы не год. Обе модели считают его именованной сущностью, но каждая модель разной."
      ],
      "metadata": {
        "id": "cUPRgmFdLhhE"
      }
    },
    {
      "cell_type": "code",
      "source": [
        "words = \"El volcán Popocatépetl ha tenido actividad en los últimos meses.\".split()\n",
        "\n",
        "sent = [{\"word\": word, \"tag\": \"\", \"label\": \"\"} for word in words]\n",
        "X_sent = SequenceDataset([sent], fields={\"word\": \"input_ids\", \"tag\": \"tags\", \"label\": \"labels\"}, vocabs=X_train.vocabs, add_begin=X_train.add_begin)\n",
        "y_sent_pred1 = predict_with_model(model1, X_sent)\n",
        "y_sent_pred2 = predict_with_model(model2, X_sent)\n",
        "for word, label1, label2 in zip(words, y_sent_pred1[0], y_sent_pred2[0]):\n",
        "    print(word, label1, label2)"
      ],
      "metadata": {
        "colab": {
          "base_uri": "https://localhost:8080/"
        },
        "id": "c3UUBcHBJl6m",
        "outputId": "bc443237-6d68-4d47-c811-7acda98f361f"
      },
      "execution_count": null,
      "outputs": [
        {
          "output_type": "stream",
          "name": "stdout",
          "text": [
            "El O O\n",
            "volcán O B-LOC\n",
            "Popocatépetl I-LOC B-LOC\n",
            "ha O O\n",
            "tenido O O\n",
            "actividad O O\n",
            "en O O\n",
            "los O O\n",
            "últimos O O\n",
            "meses. O O\n"
          ]
        }
      ]
    },
    {
      "cell_type": "markdown",
      "source": [
        "Здесь мнения моделей разошлись. Но, кажется, оба варианта могут считаться правильными."
      ],
      "metadata": {
        "id": "fCLBU-fyMZC2"
      }
    },
    {
      "cell_type": "code",
      "source": [
        "words = \"El doctor Martínez operó con éxito a su paciente en el Hospital San José.\".split()\n",
        "\n",
        "sent = [{\"word\": word, \"tag\": \"\", \"label\": \"\"} for word in words]\n",
        "X_sent = SequenceDataset([sent], fields={\"word\": \"input_ids\", \"tag\": \"tags\", \"label\": \"labels\"}, vocabs=X_train.vocabs, add_begin=X_train.add_begin)\n",
        "y_sent_pred1 = predict_with_model(model1, X_sent)\n",
        "y_sent_pred2 = predict_with_model(model2, X_sent)\n",
        "for word, label1, label2 in zip(words, y_sent_pred1[0], y_sent_pred2[0]):\n",
        "    print(word, label1, label2)"
      ],
      "metadata": {
        "colab": {
          "base_uri": "https://localhost:8080/"
        },
        "id": "t-RB8Uv6Jmb2",
        "outputId": "318a2dfd-adf5-4a34-e781-cd972f5caac5"
      },
      "execution_count": null,
      "outputs": [
        {
          "output_type": "stream",
          "name": "stdout",
          "text": [
            "El O O\n",
            "doctor O O\n",
            "Martínez B-PER B-PER\n",
            "operó I-PER I-PER\n",
            "con O O\n",
            "éxito O O\n",
            "a O O\n",
            "su O O\n",
            "paciente O O\n",
            "en O O\n",
            "el O O\n",
            "Hospital B-LOC B-LOC\n",
            "San I-LOC I-LOC\n",
            "José. I-LOC I-LOC\n"
          ]
        }
      ]
    },
    {
      "cell_type": "markdown",
      "source": [
        "Глаголу от обеих моделей досталась метка персоналии. В остальном все хорошо."
      ],
      "metadata": {
        "id": "VWVG7IP6My77"
      }
    },
    {
      "cell_type": "code",
      "source": [
        "words = \"Argentina y Brasil jugarán la final de la Copa América.\".split()\n",
        "\n",
        "sent = [{\"word\": word, \"tag\": \"\", \"label\": \"\"} for word in words]\n",
        "X_sent = SequenceDataset([sent], fields={\"word\": \"input_ids\", \"tag\": \"tags\", \"label\": \"labels\"}, vocabs=X_train.vocabs, add_begin=X_train.add_begin)\n",
        "y_sent_pred1 = predict_with_model(model1, X_sent)\n",
        "y_sent_pred2 = predict_with_model(model2, X_sent)\n",
        "for word, label1, label2 in zip(words, y_sent_pred1[0], y_sent_pred2[0]):\n",
        "    print(word, label1, label2)"
      ],
      "metadata": {
        "colab": {
          "base_uri": "https://localhost:8080/"
        },
        "id": "aS-ncnW_JmqK",
        "outputId": "e5aeea2a-a3ed-4b9f-be74-415abf29ea29"
      },
      "execution_count": null,
      "outputs": [
        {
          "output_type": "stream",
          "name": "stdout",
          "text": [
            "Argentina B-LOC B-LOC\n",
            "y O O\n",
            "Brasil B-LOC B-LOC\n",
            "jugarán O O\n",
            "la O O\n",
            "final O O\n",
            "de O O\n",
            "la O O\n",
            "Copa B-MISC B-MISC\n",
            "América. I-MISC I-MISC\n"
          ]
        }
      ]
    },
    {
      "cell_type": "markdown",
      "source": [
        "Обе модели удачно справились."
      ],
      "metadata": {
        "id": "Mgd_-jolNA8q"
      }
    },
    {
      "cell_type": "code",
      "source": [
        "words = \"Shakira nació en Barranquilla, Colombia.\".split()\n",
        "\n",
        "sent = [{\"word\": word, \"tag\": \"\", \"label\": \"\"} for word in words]\n",
        "X_sent = SequenceDataset([sent], fields={\"word\": \"input_ids\", \"tag\": \"tags\", \"label\": \"labels\"}, vocabs=X_train.vocabs, add_begin=X_train.add_begin)\n",
        "y_sent_pred1 = predict_with_model(model1, X_sent)\n",
        "y_sent_pred2 = predict_with_model(model2, X_sent)\n",
        "for word, label1, label2 in zip(words, y_sent_pred1[0], y_sent_pred2[0]):\n",
        "    print(word, label1, label2)"
      ],
      "metadata": {
        "colab": {
          "base_uri": "https://localhost:8080/"
        },
        "id": "KX1ZlmQRJm4a",
        "outputId": "d3edd6a5-fa27-473a-a91a-1062d7d36f79"
      },
      "execution_count": null,
      "outputs": [
        {
          "output_type": "stream",
          "name": "stdout",
          "text": [
            "Shakira B-PER B-PER\n",
            "nació O O\n",
            "en O O\n",
            "Barranquilla, B-ORG B-LOC\n",
            "Colombia. I-ORG O\n"
          ]
        }
      ]
    },
    {
      "cell_type": "markdown",
      "source": [
        "Здесь лучше справилась вторая модель, хотя и она не дала метку места Колумбии."
      ],
      "metadata": {
        "id": "fw0Zak_fNKop"
      }
    },
    {
      "cell_type": "code",
      "source": [
        "words = \"La Universidad de Salamanca es una de las más antiguas de España.\".split()\n",
        "\n",
        "sent = [{\"word\": word, \"tag\": \"\", \"label\": \"\"} for word in words]\n",
        "X_sent = SequenceDataset([sent], fields={\"word\": \"input_ids\", \"tag\": \"tags\", \"label\": \"labels\"}, vocabs=X_train.vocabs, add_begin=X_train.add_begin)\n",
        "y_sent_pred1 = predict_with_model(model1, X_sent)\n",
        "y_sent_pred2 = predict_with_model(model2, X_sent)\n",
        "for word, label1, label2 in zip(words, y_sent_pred1[0], y_sent_pred2[0]):\n",
        "    print(word, label1, label2)"
      ],
      "metadata": {
        "colab": {
          "base_uri": "https://localhost:8080/"
        },
        "id": "OKU4Z96VJnOV",
        "outputId": "62e4d7d3-ac27-4647-da4b-f50d6dc9ef5d"
      },
      "execution_count": null,
      "outputs": [
        {
          "output_type": "stream",
          "name": "stdout",
          "text": [
            "La O O\n",
            "Universidad B-LOC B-ORG\n",
            "de I-ORG I-LOC\n",
            "Salamanca I-ORG I-LOC\n",
            "es O O\n",
            "una O O\n",
            "de O O\n",
            "las O O\n",
            "más O O\n",
            "antiguas O O\n",
            "de O O\n",
            "España. O B-PER\n"
          ]
        }
      ]
    },
    {
      "cell_type": "markdown",
      "source": [
        "Тут, кажется, ни одна модель не справилась."
      ],
      "metadata": {
        "id": "T21uKzrGNanW"
      }
    },
    {
      "cell_type": "code",
      "source": [
        "words = \"El Taj Mahal se encuentra en la India y es un símbolo del amor.\".split()\n",
        "\n",
        "sent = [{\"word\": word, \"tag\": \"\", \"label\": \"\"} for word in words]\n",
        "X_sent = SequenceDataset([sent], fields={\"word\": \"input_ids\", \"tag\": \"tags\", \"label\": \"labels\"}, vocabs=X_train.vocabs, add_begin=X_train.add_begin)\n",
        "y_sent_pred1 = predict_with_model(model1, X_sent)\n",
        "y_sent_pred2 = predict_with_model(model2, X_sent)\n",
        "for word, label1, label2 in zip(words, y_sent_pred1[0], y_sent_pred2[0]):\n",
        "    print(word, label1, label2)"
      ],
      "metadata": {
        "colab": {
          "base_uri": "https://localhost:8080/"
        },
        "id": "lSxRcuNiJnfG",
        "outputId": "ed72b73d-0096-4ace-9486-9b8db0b3d984"
      },
      "execution_count": null,
      "outputs": [
        {
          "output_type": "stream",
          "name": "stdout",
          "text": [
            "El O O\n",
            "Taj B-LOC B-LOC\n",
            "Mahal I-LOC I-LOC\n",
            "se O O\n",
            "encuentra O O\n",
            "en O O\n",
            "la O O\n",
            "India B-LOC B-LOC\n",
            "y O O\n",
            "es O O\n",
            "un O O\n",
            "símbolo O O\n",
            "del O O\n",
            "amor. O B-ORG\n"
          ]
        }
      ]
    },
    {
      "cell_type": "markdown",
      "source": [
        "Вторая модель немного ошиблась, первая справилась."
      ],
      "metadata": {
        "id": "PDYow6WCNnzs"
      }
    },
    {
      "cell_type": "code",
      "source": [
        "words = \"El papa Francisco ofreció un discurso en la Plaza de San Pedro.\".split()\n",
        "\n",
        "sent = [{\"word\": word, \"tag\": \"\", \"label\": \"\"} for word in words]\n",
        "X_sent = SequenceDataset([sent], fields={\"word\": \"input_ids\", \"tag\": \"tags\", \"label\": \"labels\"}, vocabs=X_train.vocabs, add_begin=X_train.add_begin)\n",
        "y_sent_pred1 = predict_with_model(model1, X_sent)\n",
        "y_sent_pred2 = predict_with_model(model2, X_sent)\n",
        "for word, label1, label2 in zip(words, y_sent_pred1[0], y_sent_pred2[0]):\n",
        "    print(word, label1, label2)"
      ],
      "metadata": {
        "colab": {
          "base_uri": "https://localhost:8080/"
        },
        "id": "1HegHMd2Jnxo",
        "outputId": "ff97e5ec-e631-4b5f-f412-fea5a31bf694"
      },
      "execution_count": null,
      "outputs": [
        {
          "output_type": "stream",
          "name": "stdout",
          "text": [
            "El O O\n",
            "papa O O\n",
            "Francisco B-PER B-PER\n",
            "ofreció O O\n",
            "un O O\n",
            "discurso O O\n",
            "en O O\n",
            "la O O\n",
            "Plaza B-LOC B-LOC\n",
            "de I-LOC I-LOC\n",
            "San I-LOC I-LOC\n",
            "Pedro. I-LOC I-LOC\n"
          ]
        }
      ]
    },
    {
      "cell_type": "markdown",
      "source": [
        "Без ошибок."
      ],
      "metadata": {
        "id": "6lMHFVbjNwIh"
      }
    },
    {
      "cell_type": "code",
      "source": [
        "words = \"Google Translate es una herramienta muy útil para traducir textos.\".split()\n",
        "\n",
        "sent = [{\"word\": word, \"tag\": \"\", \"label\": \"\"} for word in words]\n",
        "X_sent = SequenceDataset([sent], fields={\"word\": \"input_ids\", \"tag\": \"tags\", \"label\": \"labels\"}, vocabs=X_train.vocabs, add_begin=X_train.add_begin)\n",
        "y_sent_pred1 = predict_with_model(model1, X_sent)\n",
        "y_sent_pred2 = predict_with_model(model2, X_sent)\n",
        "for word, label1, label2 in zip(words, y_sent_pred1[0], y_sent_pred2[0]):\n",
        "    print(word, label1, label2)"
      ],
      "metadata": {
        "colab": {
          "base_uri": "https://localhost:8080/"
        },
        "id": "-tayr0STJoHe",
        "outputId": "2cdfa7e2-fcfa-48f8-f66e-76277b367782"
      },
      "execution_count": null,
      "outputs": [
        {
          "output_type": "stream",
          "name": "stdout",
          "text": [
            "Google B-ORG B-MISC\n",
            "Translate O I-MISC\n",
            "es O O\n",
            "una O O\n",
            "herramienta O O\n",
            "muy O O\n",
            "útil O O\n",
            "para O O\n",
            "traducir O O\n",
            "textos. O O\n"
          ]
        }
      ]
    },
    {
      "cell_type": "markdown",
      "source": [
        "В принципе, в какой-то степени правильным можно считать оба ответа. Но наверное ответ второй модели более точный."
      ],
      "metadata": {
        "id": "k6zEcoJjN0Zt"
      }
    },
    {
      "cell_type": "code",
      "source": [
        "words = \"Netflix anunció una nueva serie basada en hechos reales.\".split()\n",
        "\n",
        "sent = [{\"word\": word, \"tag\": \"\", \"label\": \"\"} for word in words]\n",
        "X_sent = SequenceDataset([sent], fields={\"word\": \"input_ids\", \"tag\": \"tags\", \"label\": \"labels\"}, vocabs=X_train.vocabs, add_begin=X_train.add_begin)\n",
        "y_sent_pred1 = predict_with_model(model1, X_sent)\n",
        "y_sent_pred2 = predict_with_model(model2, X_sent)\n",
        "for word, label1, label2 in zip(words, y_sent_pred1[0], y_sent_pred2[0]):\n",
        "    print(word, label1, label2)"
      ],
      "metadata": {
        "colab": {
          "base_uri": "https://localhost:8080/"
        },
        "id": "6oDmjkIcKhhL",
        "outputId": "b761448c-a5c7-4f14-ce23-35848233d143"
      },
      "execution_count": null,
      "outputs": [
        {
          "output_type": "stream",
          "name": "stdout",
          "text": [
            "Netflix B-ORG B-ORG\n",
            "anunció O O\n",
            "una O O\n",
            "nueva O O\n",
            "serie O O\n",
            "basada O O\n",
            "en O O\n",
            "hechos O O\n",
            "reales. O O\n"
          ]
        }
      ]
    },
    {
      "cell_type": "markdown",
      "source": [
        "Обе модели справились с данным предложением."
      ],
      "metadata": {
        "id": "rqRJVKfcOIDd"
      }
    },
    {
      "cell_type": "markdown",
      "source": [
        "Итак, мы наблюдаем, что в большинстве случаев обе модели справляются с распознаванием именованных сущностей. Однако в бОльшей части сложных случаев лучше справляется первая модель.\n"
      ],
      "metadata": {
        "id": "pCLNXHeoOMNM"
      }
    }
  ]
}